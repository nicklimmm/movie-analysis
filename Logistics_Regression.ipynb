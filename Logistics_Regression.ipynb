{
 "cells": [
  {
   "cell_type": "code",
   "execution_count": 1,
   "metadata": {},
   "outputs": [],
   "source": [
    "import numpy as np\n",
    "import pandas as pd\n",
    "import matplotlib.pyplot as plt\n",
    "import seaborn as sb"
   ]
  },
  {
   "cell_type": "code",
   "execution_count": 2,
   "metadata": {},
   "outputs": [],
   "source": [
    "from sklearn.linear_model import LogisticRegression\n",
    "from sklearn.metrics import confusion_matrix\n",
    "from sklearn.model_selection import train_test_split"
   ]
  },
  {
   "cell_type": "code",
   "execution_count": 3,
   "metadata": {},
   "outputs": [],
   "source": [
    "def visualize_preds(table,y_true, y_pred, title):\n",
    "    ls = []\n",
    "    f = plt.figure(figsize = (8,8))\n",
    "    cf = confusion_matrix(y_true, y_pred)\n",
    "    sb.heatmap(cf, fmt='.0f', annot=True)\n",
    "    \n",
    "    accuracy  = np.trace(cf) / float(np.sum(cf))\n",
    "\n",
    "    # Metrics for Binary Confusion Matrices\n",
    "    if sum(cf[:,1]) == 0:\n",
    "        precision = 0.0;\n",
    "    else:\n",
    "        precision = cf[1,1] / sum(cf[:,1])\n",
    "        \n",
    "    if sum(cf[1,:]) == 0:\n",
    "        recall = 0.0;\n",
    "    else:\n",
    "        recall    = cf[1,1] / sum(cf[1,:])\n",
    "        \n",
    "    if (precision + recall) == 0:\n",
    "        f1_score = 0.0;\n",
    "    else:\n",
    "        f1_score  = 2 *precision * recall / (precision + recall)\n",
    "    stats_text = \"\\n\\nAccuracy={:0.2f}\\nPrecision={:0.2f}\\nRecall={:0.2f}\\nF1 Score={:0.2f}\".format(\n",
    "        accuracy,precision,recall,f1_score)\n",
    "    \n",
    "    ls.append(accuracy)\n",
    "    ls.append(precision)\n",
    "    ls.append(recall)\n",
    "    ls.append(f1_score)\n",
    "    ls = pd.DataFrame(ls)\n",
    "    table = pd.concat([table,ls], axis = 1)\n",
    "    \n",
    "    plt.xlabel('Predicted' + stats_text)\n",
    "    plt.ylabel('Actual')\n",
    "    plt.title(title)\n",
    "    \n",
    "    return table"
   ]
  },
  {
   "cell_type": "code",
   "execution_count": 4,
   "metadata": {},
   "outputs": [],
   "source": [
    "table1 = pd.DataFrame()\n",
    "table2 = pd.DataFrame()"
   ]
  },
  {
   "cell_type": "markdown",
   "metadata": {},
   "source": [
    "## Importing data"
   ]
  },
  {
   "cell_type": "code",
   "execution_count": 5,
   "metadata": {},
   "outputs": [
    {
     "data": {
      "text/html": [
       "<div>\n",
       "<style scoped>\n",
       "    .dataframe tbody tr th:only-of-type {\n",
       "        vertical-align: middle;\n",
       "    }\n",
       "\n",
       "    .dataframe tbody tr th {\n",
       "        vertical-align: top;\n",
       "    }\n",
       "\n",
       "    .dataframe thead th {\n",
       "        text-align: right;\n",
       "    }\n",
       "</style>\n",
       "<table border=\"1\" class=\"dataframe\">\n",
       "  <thead>\n",
       "    <tr style=\"text-align: right;\">\n",
       "      <th></th>\n",
       "      <th>popularity</th>\n",
       "      <th>casts_popularity_sum</th>\n",
       "      <th>crews_popularity_sum</th>\n",
       "      <th>budget</th>\n",
       "      <th>is_good</th>\n",
       "    </tr>\n",
       "  </thead>\n",
       "  <tbody>\n",
       "    <tr>\n",
       "      <th>5527</th>\n",
       "      <td>1.680</td>\n",
       "      <td>34.059</td>\n",
       "      <td>8.671</td>\n",
       "      <td>3300000.0</td>\n",
       "      <td>0</td>\n",
       "    </tr>\n",
       "    <tr>\n",
       "      <th>3263</th>\n",
       "      <td>18.013</td>\n",
       "      <td>46.018</td>\n",
       "      <td>9.456</td>\n",
       "      <td>26000000.0</td>\n",
       "      <td>0</td>\n",
       "    </tr>\n",
       "    <tr>\n",
       "      <th>1022</th>\n",
       "      <td>17.237</td>\n",
       "      <td>182.113</td>\n",
       "      <td>198.986</td>\n",
       "      <td>65000000.0</td>\n",
       "      <td>0</td>\n",
       "    </tr>\n",
       "    <tr>\n",
       "      <th>4603</th>\n",
       "      <td>11.931</td>\n",
       "      <td>110.585</td>\n",
       "      <td>44.527</td>\n",
       "      <td>20000000.0</td>\n",
       "      <td>0</td>\n",
       "    </tr>\n",
       "    <tr>\n",
       "      <th>2733</th>\n",
       "      <td>14.717</td>\n",
       "      <td>99.835</td>\n",
       "      <td>75.898</td>\n",
       "      <td>51000000.0</td>\n",
       "      <td>0</td>\n",
       "    </tr>\n",
       "    <tr>\n",
       "      <th>...</th>\n",
       "      <td>...</td>\n",
       "      <td>...</td>\n",
       "      <td>...</td>\n",
       "      <td>...</td>\n",
       "      <td>...</td>\n",
       "    </tr>\n",
       "    <tr>\n",
       "      <th>4447</th>\n",
       "      <td>4.148</td>\n",
       "      <td>18.300</td>\n",
       "      <td>13.422</td>\n",
       "      <td>3230939.0</td>\n",
       "      <td>0</td>\n",
       "    </tr>\n",
       "    <tr>\n",
       "      <th>1479</th>\n",
       "      <td>16.122</td>\n",
       "      <td>72.172</td>\n",
       "      <td>50.678</td>\n",
       "      <td>40000000.0</td>\n",
       "      <td>0</td>\n",
       "    </tr>\n",
       "    <tr>\n",
       "      <th>8772</th>\n",
       "      <td>1.712</td>\n",
       "      <td>43.027</td>\n",
       "      <td>8.754</td>\n",
       "      <td>577450.0</td>\n",
       "      <td>0</td>\n",
       "    </tr>\n",
       "    <tr>\n",
       "      <th>5071</th>\n",
       "      <td>16.830</td>\n",
       "      <td>103.881</td>\n",
       "      <td>108.412</td>\n",
       "      <td>15000000.0</td>\n",
       "      <td>0</td>\n",
       "    </tr>\n",
       "    <tr>\n",
       "      <th>2682</th>\n",
       "      <td>24.722</td>\n",
       "      <td>83.227</td>\n",
       "      <td>41.678</td>\n",
       "      <td>15000000.0</td>\n",
       "      <td>1</td>\n",
       "    </tr>\n",
       "  </tbody>\n",
       "</table>\n",
       "<p>4949 rows × 5 columns</p>\n",
       "</div>"
      ],
      "text/plain": [
       "      popularity  casts_popularity_sum  crews_popularity_sum      budget  \\\n",
       "5527       1.680                34.059                 8.671   3300000.0   \n",
       "3263      18.013                46.018                 9.456  26000000.0   \n",
       "1022      17.237               182.113               198.986  65000000.0   \n",
       "4603      11.931               110.585                44.527  20000000.0   \n",
       "2733      14.717                99.835                75.898  51000000.0   \n",
       "...          ...                   ...                   ...         ...   \n",
       "4447       4.148                18.300                13.422   3230939.0   \n",
       "1479      16.122                72.172                50.678  40000000.0   \n",
       "8772       1.712                43.027                 8.754    577450.0   \n",
       "5071      16.830               103.881               108.412  15000000.0   \n",
       "2682      24.722                83.227                41.678  15000000.0   \n",
       "\n",
       "      is_good  \n",
       "5527        0  \n",
       "3263        0  \n",
       "1022        0  \n",
       "4603        0  \n",
       "2733        0  \n",
       "...       ...  \n",
       "4447        0  \n",
       "1479        0  \n",
       "8772        0  \n",
       "5071        0  \n",
       "2682        1  \n",
       "\n",
       "[4949 rows x 5 columns]"
      ]
     },
     "execution_count": 5,
     "metadata": {},
     "output_type": "execute_result"
    }
   ],
   "source": [
    "#IMPORTING CLEAN DATA USING RANDOM SAMPLING\n",
    "train = pd.read_csv(\"data/train.csv\", index_col=0)\n",
    "train = train.drop(['revenue','decade_released','genres','vote_count'], axis = 1)\n",
    "train"
   ]
  },
  {
   "cell_type": "code",
   "execution_count": 6,
   "metadata": {},
   "outputs": [
    {
     "data": {
      "text/html": [
       "<div>\n",
       "<style scoped>\n",
       "    .dataframe tbody tr th:only-of-type {\n",
       "        vertical-align: middle;\n",
       "    }\n",
       "\n",
       "    .dataframe tbody tr th {\n",
       "        vertical-align: top;\n",
       "    }\n",
       "\n",
       "    .dataframe thead th {\n",
       "        text-align: right;\n",
       "    }\n",
       "</style>\n",
       "<table border=\"1\" class=\"dataframe\">\n",
       "  <thead>\n",
       "    <tr style=\"text-align: right;\">\n",
       "      <th></th>\n",
       "      <th>popularity</th>\n",
       "      <th>casts_popularity_sum</th>\n",
       "      <th>crews_popularity_sum</th>\n",
       "      <th>budget</th>\n",
       "      <th>is_good</th>\n",
       "    </tr>\n",
       "  </thead>\n",
       "  <tbody>\n",
       "    <tr>\n",
       "      <th>0</th>\n",
       "      <td>1.680</td>\n",
       "      <td>34.059</td>\n",
       "      <td>8.671</td>\n",
       "      <td>3300000.0</td>\n",
       "      <td>0</td>\n",
       "    </tr>\n",
       "    <tr>\n",
       "      <th>1</th>\n",
       "      <td>18.013</td>\n",
       "      <td>46.018</td>\n",
       "      <td>9.456</td>\n",
       "      <td>26000000.0</td>\n",
       "      <td>0</td>\n",
       "    </tr>\n",
       "    <tr>\n",
       "      <th>2</th>\n",
       "      <td>17.237</td>\n",
       "      <td>182.113</td>\n",
       "      <td>198.986</td>\n",
       "      <td>65000000.0</td>\n",
       "      <td>0</td>\n",
       "    </tr>\n",
       "    <tr>\n",
       "      <th>3</th>\n",
       "      <td>11.931</td>\n",
       "      <td>110.585</td>\n",
       "      <td>44.527</td>\n",
       "      <td>20000000.0</td>\n",
       "      <td>0</td>\n",
       "    </tr>\n",
       "    <tr>\n",
       "      <th>4</th>\n",
       "      <td>14.717</td>\n",
       "      <td>99.835</td>\n",
       "      <td>75.898</td>\n",
       "      <td>51000000.0</td>\n",
       "      <td>0</td>\n",
       "    </tr>\n",
       "    <tr>\n",
       "      <th>...</th>\n",
       "      <td>...</td>\n",
       "      <td>...</td>\n",
       "      <td>...</td>\n",
       "      <td>...</td>\n",
       "      <td>...</td>\n",
       "    </tr>\n",
       "    <tr>\n",
       "      <th>5891</th>\n",
       "      <td>37.911</td>\n",
       "      <td>85.372</td>\n",
       "      <td>41.670</td>\n",
       "      <td>140000000.0</td>\n",
       "      <td>1</td>\n",
       "    </tr>\n",
       "    <tr>\n",
       "      <th>5892</th>\n",
       "      <td>71.879</td>\n",
       "      <td>147.898</td>\n",
       "      <td>256.890</td>\n",
       "      <td>150000000.0</td>\n",
       "      <td>1</td>\n",
       "    </tr>\n",
       "    <tr>\n",
       "      <th>5893</th>\n",
       "      <td>26.437</td>\n",
       "      <td>124.173</td>\n",
       "      <td>266.202</td>\n",
       "      <td>76000000.0</td>\n",
       "      <td>1</td>\n",
       "    </tr>\n",
       "    <tr>\n",
       "      <th>5894</th>\n",
       "      <td>27.112</td>\n",
       "      <td>74.206</td>\n",
       "      <td>38.326</td>\n",
       "      <td>5000000.0</td>\n",
       "      <td>1</td>\n",
       "    </tr>\n",
       "    <tr>\n",
       "      <th>5895</th>\n",
       "      <td>44.886</td>\n",
       "      <td>111.483</td>\n",
       "      <td>86.524</td>\n",
       "      <td>14000000.0</td>\n",
       "      <td>1</td>\n",
       "    </tr>\n",
       "  </tbody>\n",
       "</table>\n",
       "<p>5896 rows × 5 columns</p>\n",
       "</div>"
      ],
      "text/plain": [
       "      popularity  casts_popularity_sum  crews_popularity_sum       budget  \\\n",
       "0          1.680                34.059                 8.671    3300000.0   \n",
       "1         18.013                46.018                 9.456   26000000.0   \n",
       "2         17.237               182.113               198.986   65000000.0   \n",
       "3         11.931               110.585                44.527   20000000.0   \n",
       "4         14.717                99.835                75.898   51000000.0   \n",
       "...          ...                   ...                   ...          ...   \n",
       "5891      37.911                85.372                41.670  140000000.0   \n",
       "5892      71.879               147.898               256.890  150000000.0   \n",
       "5893      26.437               124.173               266.202   76000000.0   \n",
       "5894      27.112                74.206                38.326    5000000.0   \n",
       "5895      44.886               111.483                86.524   14000000.0   \n",
       "\n",
       "      is_good  \n",
       "0           0  \n",
       "1           0  \n",
       "2           0  \n",
       "3           0  \n",
       "4           0  \n",
       "...       ...  \n",
       "5891        1  \n",
       "5892        1  \n",
       "5893        1  \n",
       "5894        1  \n",
       "5895        1  \n",
       "\n",
       "[5896 rows x 5 columns]"
      ]
     },
     "execution_count": 6,
     "metadata": {},
     "output_type": "execute_result"
    }
   ],
   "source": [
    "#IMPORTING CLEANED TRAIN DATA USING RANDOM OVERSAMPLING SAMPLING\n",
    "oversampling_train = pd.read_csv(\"data/oversampled-train.csv\", index_col = 0)\n",
    "oversampling_train = oversampling_train.drop(['revenue','genres','decade_released','vote_count'], axis = 1)\n",
    "oversampling_train"
   ]
  },
  {
   "cell_type": "code",
   "execution_count": 7,
   "metadata": {},
   "outputs": [
    {
     "data": {
      "text/html": [
       "<div>\n",
       "<style scoped>\n",
       "    .dataframe tbody tr th:only-of-type {\n",
       "        vertical-align: middle;\n",
       "    }\n",
       "\n",
       "    .dataframe tbody tr th {\n",
       "        vertical-align: top;\n",
       "    }\n",
       "\n",
       "    .dataframe thead th {\n",
       "        text-align: right;\n",
       "    }\n",
       "</style>\n",
       "<table border=\"1\" class=\"dataframe\">\n",
       "  <thead>\n",
       "    <tr style=\"text-align: right;\">\n",
       "      <th></th>\n",
       "      <th>popularity</th>\n",
       "      <th>casts_popularity_sum</th>\n",
       "      <th>crews_popularity_sum</th>\n",
       "      <th>budget</th>\n",
       "      <th>is_good</th>\n",
       "    </tr>\n",
       "  </thead>\n",
       "  <tbody>\n",
       "    <tr>\n",
       "      <th>0</th>\n",
       "      <td>1.680000</td>\n",
       "      <td>34.059000</td>\n",
       "      <td>8.671000</td>\n",
       "      <td>3.300000e+06</td>\n",
       "      <td>0</td>\n",
       "    </tr>\n",
       "    <tr>\n",
       "      <th>1</th>\n",
       "      <td>11.931000</td>\n",
       "      <td>110.585000</td>\n",
       "      <td>44.527000</td>\n",
       "      <td>2.000000e+07</td>\n",
       "      <td>0</td>\n",
       "    </tr>\n",
       "    <tr>\n",
       "      <th>2</th>\n",
       "      <td>14.717000</td>\n",
       "      <td>99.835000</td>\n",
       "      <td>75.898000</td>\n",
       "      <td>5.100000e+07</td>\n",
       "      <td>0</td>\n",
       "    </tr>\n",
       "    <tr>\n",
       "      <th>3</th>\n",
       "      <td>12.050000</td>\n",
       "      <td>33.433000</td>\n",
       "      <td>10.263000</td>\n",
       "      <td>1.750000e+07</td>\n",
       "      <td>0</td>\n",
       "    </tr>\n",
       "    <tr>\n",
       "      <th>4</th>\n",
       "      <td>7.503000</td>\n",
       "      <td>36.672000</td>\n",
       "      <td>13.520000</td>\n",
       "      <td>1.600000e+05</td>\n",
       "      <td>0</td>\n",
       "    </tr>\n",
       "    <tr>\n",
       "      <th>...</th>\n",
       "      <td>...</td>\n",
       "      <td>...</td>\n",
       "      <td>...</td>\n",
       "      <td>...</td>\n",
       "      <td>...</td>\n",
       "    </tr>\n",
       "    <tr>\n",
       "      <th>3690</th>\n",
       "      <td>4.073709</td>\n",
       "      <td>4.324492</td>\n",
       "      <td>10.265746</td>\n",
       "      <td>1.488598e+05</td>\n",
       "      <td>1</td>\n",
       "    </tr>\n",
       "    <tr>\n",
       "      <th>3691</th>\n",
       "      <td>67.239940</td>\n",
       "      <td>80.192475</td>\n",
       "      <td>41.951580</td>\n",
       "      <td>1.549019e+07</td>\n",
       "      <td>1</td>\n",
       "    </tr>\n",
       "    <tr>\n",
       "      <th>3692</th>\n",
       "      <td>21.451971</td>\n",
       "      <td>137.467166</td>\n",
       "      <td>43.816913</td>\n",
       "      <td>9.171183e+07</td>\n",
       "      <td>1</td>\n",
       "    </tr>\n",
       "    <tr>\n",
       "      <th>3693</th>\n",
       "      <td>33.474275</td>\n",
       "      <td>118.201078</td>\n",
       "      <td>48.248315</td>\n",
       "      <td>1.265054e+07</td>\n",
       "      <td>1</td>\n",
       "    </tr>\n",
       "    <tr>\n",
       "      <th>3694</th>\n",
       "      <td>26.421068</td>\n",
       "      <td>134.796016</td>\n",
       "      <td>25.145178</td>\n",
       "      <td>4.294768e+06</td>\n",
       "      <td>1</td>\n",
       "    </tr>\n",
       "  </tbody>\n",
       "</table>\n",
       "<p>3695 rows × 5 columns</p>\n",
       "</div>"
      ],
      "text/plain": [
       "      popularity  casts_popularity_sum  crews_popularity_sum        budget  \\\n",
       "0       1.680000             34.059000              8.671000  3.300000e+06   \n",
       "1      11.931000            110.585000             44.527000  2.000000e+07   \n",
       "2      14.717000             99.835000             75.898000  5.100000e+07   \n",
       "3      12.050000             33.433000             10.263000  1.750000e+07   \n",
       "4       7.503000             36.672000             13.520000  1.600000e+05   \n",
       "...          ...                   ...                   ...           ...   \n",
       "3690    4.073709              4.324492             10.265746  1.488598e+05   \n",
       "3691   67.239940             80.192475             41.951580  1.549019e+07   \n",
       "3692   21.451971            137.467166             43.816913  9.171183e+07   \n",
       "3693   33.474275            118.201078             48.248315  1.265054e+07   \n",
       "3694   26.421068            134.796016             25.145178  4.294768e+06   \n",
       "\n",
       "      is_good  \n",
       "0           0  \n",
       "1           0  \n",
       "2           0  \n",
       "3           0  \n",
       "4           0  \n",
       "...       ...  \n",
       "3690        1  \n",
       "3691        1  \n",
       "3692        1  \n",
       "3693        1  \n",
       "3694        1  \n",
       "\n",
       "[3695 rows x 5 columns]"
      ]
     },
     "execution_count": 7,
     "metadata": {},
     "output_type": "execute_result"
    }
   ],
   "source": [
    "#IMPORTING CLEANED TRAIN DATA USING SMOTEENN SAMPLING\n",
    "smoteenn_train = pd.read_csv(\"data/smoteenn-train.csv\", index_col = 0)\n",
    "smoteenn_train = smoteenn_train.drop(['revenue','vote_count'], axis = 1)\n",
    "smoteenn_train"
   ]
  },
  {
   "cell_type": "code",
   "execution_count": 8,
   "metadata": {},
   "outputs": [
    {
     "data": {
      "text/html": [
       "<div>\n",
       "<style scoped>\n",
       "    .dataframe tbody tr th:only-of-type {\n",
       "        vertical-align: middle;\n",
       "    }\n",
       "\n",
       "    .dataframe tbody tr th {\n",
       "        vertical-align: top;\n",
       "    }\n",
       "\n",
       "    .dataframe thead th {\n",
       "        text-align: right;\n",
       "    }\n",
       "</style>\n",
       "<table border=\"1\" class=\"dataframe\">\n",
       "  <thead>\n",
       "    <tr style=\"text-align: right;\">\n",
       "      <th></th>\n",
       "      <th>popularity</th>\n",
       "      <th>casts_popularity_sum</th>\n",
       "      <th>crews_popularity_sum</th>\n",
       "      <th>budget</th>\n",
       "      <th>is_good</th>\n",
       "    </tr>\n",
       "  </thead>\n",
       "  <tbody>\n",
       "    <tr>\n",
       "      <th>0</th>\n",
       "      <td>1.680000</td>\n",
       "      <td>34.059000</td>\n",
       "      <td>8.671000</td>\n",
       "      <td>3.300000e+06</td>\n",
       "      <td>0</td>\n",
       "    </tr>\n",
       "    <tr>\n",
       "      <th>1</th>\n",
       "      <td>18.013000</td>\n",
       "      <td>46.018000</td>\n",
       "      <td>9.456000</td>\n",
       "      <td>2.600000e+07</td>\n",
       "      <td>0</td>\n",
       "    </tr>\n",
       "    <tr>\n",
       "      <th>2</th>\n",
       "      <td>11.931000</td>\n",
       "      <td>110.585000</td>\n",
       "      <td>44.527000</td>\n",
       "      <td>2.000000e+07</td>\n",
       "      <td>0</td>\n",
       "    </tr>\n",
       "    <tr>\n",
       "      <th>3</th>\n",
       "      <td>14.717000</td>\n",
       "      <td>99.835000</td>\n",
       "      <td>75.898000</td>\n",
       "      <td>5.100000e+07</td>\n",
       "      <td>0</td>\n",
       "    </tr>\n",
       "    <tr>\n",
       "      <th>4</th>\n",
       "      <td>23.357000</td>\n",
       "      <td>99.896000</td>\n",
       "      <td>62.278000</td>\n",
       "      <td>3.200000e+07</td>\n",
       "      <td>0</td>\n",
       "    </tr>\n",
       "    <tr>\n",
       "      <th>...</th>\n",
       "      <td>...</td>\n",
       "      <td>...</td>\n",
       "      <td>...</td>\n",
       "      <td>...</td>\n",
       "      <td>...</td>\n",
       "    </tr>\n",
       "    <tr>\n",
       "      <th>6857</th>\n",
       "      <td>21.451971</td>\n",
       "      <td>137.467166</td>\n",
       "      <td>43.816913</td>\n",
       "      <td>9.171183e+07</td>\n",
       "      <td>1</td>\n",
       "    </tr>\n",
       "    <tr>\n",
       "      <th>6858</th>\n",
       "      <td>33.474275</td>\n",
       "      <td>118.201078</td>\n",
       "      <td>48.248315</td>\n",
       "      <td>1.265054e+07</td>\n",
       "      <td>1</td>\n",
       "    </tr>\n",
       "    <tr>\n",
       "      <th>6859</th>\n",
       "      <td>26.421068</td>\n",
       "      <td>134.796016</td>\n",
       "      <td>25.145178</td>\n",
       "      <td>4.294768e+06</td>\n",
       "      <td>1</td>\n",
       "    </tr>\n",
       "    <tr>\n",
       "      <th>6860</th>\n",
       "      <td>12.187359</td>\n",
       "      <td>37.095476</td>\n",
       "      <td>24.018535</td>\n",
       "      <td>3.327034e+06</td>\n",
       "      <td>1</td>\n",
       "    </tr>\n",
       "    <tr>\n",
       "      <th>6861</th>\n",
       "      <td>15.309415</td>\n",
       "      <td>68.980285</td>\n",
       "      <td>73.671226</td>\n",
       "      <td>2.307895e+07</td>\n",
       "      <td>1</td>\n",
       "    </tr>\n",
       "  </tbody>\n",
       "</table>\n",
       "<p>6862 rows × 5 columns</p>\n",
       "</div>"
      ],
      "text/plain": [
       "      popularity  casts_popularity_sum  crews_popularity_sum        budget  \\\n",
       "0       1.680000             34.059000              8.671000  3.300000e+06   \n",
       "1      18.013000             46.018000              9.456000  2.600000e+07   \n",
       "2      11.931000            110.585000             44.527000  2.000000e+07   \n",
       "3      14.717000             99.835000             75.898000  5.100000e+07   \n",
       "4      23.357000             99.896000             62.278000  3.200000e+07   \n",
       "...          ...                   ...                   ...           ...   \n",
       "6857   21.451971            137.467166             43.816913  9.171183e+07   \n",
       "6858   33.474275            118.201078             48.248315  1.265054e+07   \n",
       "6859   26.421068            134.796016             25.145178  4.294768e+06   \n",
       "6860   12.187359             37.095476             24.018535  3.327034e+06   \n",
       "6861   15.309415             68.980285             73.671226  2.307895e+07   \n",
       "\n",
       "      is_good  \n",
       "0           0  \n",
       "1           0  \n",
       "2           0  \n",
       "3           0  \n",
       "4           0  \n",
       "...       ...  \n",
       "6857        1  \n",
       "6858        1  \n",
       "6859        1  \n",
       "6860        1  \n",
       "6861        1  \n",
       "\n",
       "[6862 rows x 5 columns]"
      ]
     },
     "execution_count": 8,
     "metadata": {},
     "output_type": "execute_result"
    }
   ],
   "source": [
    "#IMPORTING CLEANED TRAIN DATA USING SMOTETOMEK SAMPLING\n",
    "smotetomek_train = pd.read_csv(\"data/smotetomek-train.csv\", index_col = 0)\n",
    "smotetomek_train = smotetomek_train.drop(['revenue','vote_count'], axis = 1)\n",
    "smotetomek_train"
   ]
  },
  {
   "cell_type": "code",
   "execution_count": 9,
   "metadata": {},
   "outputs": [
    {
     "data": {
      "text/html": [
       "<div>\n",
       "<style scoped>\n",
       "    .dataframe tbody tr th:only-of-type {\n",
       "        vertical-align: middle;\n",
       "    }\n",
       "\n",
       "    .dataframe tbody tr th {\n",
       "        vertical-align: top;\n",
       "    }\n",
       "\n",
       "    .dataframe thead th {\n",
       "        text-align: right;\n",
       "    }\n",
       "</style>\n",
       "<table border=\"1\" class=\"dataframe\">\n",
       "  <thead>\n",
       "    <tr style=\"text-align: right;\">\n",
       "      <th></th>\n",
       "      <th>popularity</th>\n",
       "      <th>casts_popularity_sum</th>\n",
       "      <th>crews_popularity_sum</th>\n",
       "      <th>budget</th>\n",
       "      <th>is_good</th>\n",
       "    </tr>\n",
       "  </thead>\n",
       "  <tbody>\n",
       "    <tr>\n",
       "      <th>6183</th>\n",
       "      <td>10.639</td>\n",
       "      <td>53.101</td>\n",
       "      <td>21.680</td>\n",
       "      <td>5800000.0</td>\n",
       "      <td>0</td>\n",
       "    </tr>\n",
       "    <tr>\n",
       "      <th>786</th>\n",
       "      <td>48.052</td>\n",
       "      <td>100.519</td>\n",
       "      <td>97.495</td>\n",
       "      <td>60000000.0</td>\n",
       "      <td>0</td>\n",
       "    </tr>\n",
       "    <tr>\n",
       "      <th>100</th>\n",
       "      <td>37.487</td>\n",
       "      <td>255.221</td>\n",
       "      <td>181.062</td>\n",
       "      <td>170000000.0</td>\n",
       "      <td>1</td>\n",
       "    </tr>\n",
       "    <tr>\n",
       "      <th>4763</th>\n",
       "      <td>19.589</td>\n",
       "      <td>83.531</td>\n",
       "      <td>99.984</td>\n",
       "      <td>80000000.0</td>\n",
       "      <td>0</td>\n",
       "    </tr>\n",
       "    <tr>\n",
       "      <th>429</th>\n",
       "      <td>27.201</td>\n",
       "      <td>121.827</td>\n",
       "      <td>136.950</td>\n",
       "      <td>40000000.0</td>\n",
       "      <td>1</td>\n",
       "    </tr>\n",
       "    <tr>\n",
       "      <th>...</th>\n",
       "      <td>...</td>\n",
       "      <td>...</td>\n",
       "      <td>...</td>\n",
       "      <td>...</td>\n",
       "      <td>...</td>\n",
       "    </tr>\n",
       "    <tr>\n",
       "      <th>1702</th>\n",
       "      <td>10.985</td>\n",
       "      <td>66.930</td>\n",
       "      <td>20.929</td>\n",
       "      <td>37000000.0</td>\n",
       "      <td>0</td>\n",
       "    </tr>\n",
       "    <tr>\n",
       "      <th>7958</th>\n",
       "      <td>2.867</td>\n",
       "      <td>20.298</td>\n",
       "      <td>5.676</td>\n",
       "      <td>1200000.0</td>\n",
       "      <td>0</td>\n",
       "    </tr>\n",
       "    <tr>\n",
       "      <th>5684</th>\n",
       "      <td>14.063</td>\n",
       "      <td>35.806</td>\n",
       "      <td>34.015</td>\n",
       "      <td>7000000.0</td>\n",
       "      <td>0</td>\n",
       "    </tr>\n",
       "    <tr>\n",
       "      <th>8122</th>\n",
       "      <td>4.678</td>\n",
       "      <td>11.597</td>\n",
       "      <td>5.905</td>\n",
       "      <td>10000000.0</td>\n",
       "      <td>0</td>\n",
       "    </tr>\n",
       "    <tr>\n",
       "      <th>212</th>\n",
       "      <td>50.949</td>\n",
       "      <td>86.675</td>\n",
       "      <td>102.731</td>\n",
       "      <td>28000000.0</td>\n",
       "      <td>1</td>\n",
       "    </tr>\n",
       "  </tbody>\n",
       "</table>\n",
       "<p>2121 rows × 5 columns</p>\n",
       "</div>"
      ],
      "text/plain": [
       "      popularity  casts_popularity_sum  crews_popularity_sum       budget  \\\n",
       "6183      10.639                53.101                21.680    5800000.0   \n",
       "786       48.052               100.519                97.495   60000000.0   \n",
       "100       37.487               255.221               181.062  170000000.0   \n",
       "4763      19.589                83.531                99.984   80000000.0   \n",
       "429       27.201               121.827               136.950   40000000.0   \n",
       "...          ...                   ...                   ...          ...   \n",
       "1702      10.985                66.930                20.929   37000000.0   \n",
       "7958       2.867                20.298                 5.676    1200000.0   \n",
       "5684      14.063                35.806                34.015    7000000.0   \n",
       "8122       4.678                11.597                 5.905   10000000.0   \n",
       "212       50.949                86.675               102.731   28000000.0   \n",
       "\n",
       "      is_good  \n",
       "6183        0  \n",
       "786         0  \n",
       "100         1  \n",
       "4763        0  \n",
       "429         1  \n",
       "...       ...  \n",
       "1702        0  \n",
       "7958        0  \n",
       "5684        0  \n",
       "8122        0  \n",
       "212         1  \n",
       "\n",
       "[2121 rows x 5 columns]"
      ]
     },
     "execution_count": 9,
     "metadata": {},
     "output_type": "execute_result"
    }
   ],
   "source": [
    "#IMPORTING CLEANED TEST DATASETS\n",
    "test = pd.read_csv(\"data/test.csv\", index_col = 0)\n",
    "test = test.drop(['revenue','genres','decade_released','vote_count'], axis = 1)\n",
    "test"
   ]
  },
  {
   "cell_type": "code",
   "execution_count": null,
   "metadata": {},
   "outputs": [],
   "source": []
  },
  {
   "cell_type": "markdown",
   "metadata": {},
   "source": [
    "## 1. Classification of train by Logistic Regression"
   ]
  },
  {
   "cell_type": "code",
   "execution_count": 10,
   "metadata": {
    "scrolled": true
   },
   "outputs": [
    {
     "data": {
      "text/html": [
       "<div>\n",
       "<style scoped>\n",
       "    .dataframe tbody tr th:only-of-type {\n",
       "        vertical-align: middle;\n",
       "    }\n",
       "\n",
       "    .dataframe tbody tr th {\n",
       "        vertical-align: top;\n",
       "    }\n",
       "\n",
       "    .dataframe thead th {\n",
       "        text-align: right;\n",
       "    }\n",
       "</style>\n",
       "<table border=\"1\" class=\"dataframe\">\n",
       "  <thead>\n",
       "    <tr style=\"text-align: right;\">\n",
       "      <th></th>\n",
       "      <th>popularity</th>\n",
       "      <th>casts_popularity_sum</th>\n",
       "      <th>crews_popularity_sum</th>\n",
       "      <th>budget</th>\n",
       "      <th>is_good</th>\n",
       "    </tr>\n",
       "  </thead>\n",
       "  <tbody>\n",
       "    <tr>\n",
       "      <th>popularity</th>\n",
       "      <td>1.000000</td>\n",
       "      <td>0.276604</td>\n",
       "      <td>0.262988</td>\n",
       "      <td>0.298602</td>\n",
       "      <td>0.089654</td>\n",
       "    </tr>\n",
       "    <tr>\n",
       "      <th>casts_popularity_sum</th>\n",
       "      <td>0.276604</td>\n",
       "      <td>1.000000</td>\n",
       "      <td>0.547721</td>\n",
       "      <td>0.627959</td>\n",
       "      <td>0.087012</td>\n",
       "    </tr>\n",
       "    <tr>\n",
       "      <th>crews_popularity_sum</th>\n",
       "      <td>0.262988</td>\n",
       "      <td>0.547721</td>\n",
       "      <td>1.000000</td>\n",
       "      <td>0.606373</td>\n",
       "      <td>0.109554</td>\n",
       "    </tr>\n",
       "    <tr>\n",
       "      <th>budget</th>\n",
       "      <td>0.298602</td>\n",
       "      <td>0.627959</td>\n",
       "      <td>0.606373</td>\n",
       "      <td>1.000000</td>\n",
       "      <td>0.001421</td>\n",
       "    </tr>\n",
       "    <tr>\n",
       "      <th>is_good</th>\n",
       "      <td>0.089654</td>\n",
       "      <td>0.087012</td>\n",
       "      <td>0.109554</td>\n",
       "      <td>0.001421</td>\n",
       "      <td>1.000000</td>\n",
       "    </tr>\n",
       "  </tbody>\n",
       "</table>\n",
       "</div>"
      ],
      "text/plain": [
       "                      popularity  casts_popularity_sum  crews_popularity_sum  \\\n",
       "popularity              1.000000              0.276604              0.262988   \n",
       "casts_popularity_sum    0.276604              1.000000              0.547721   \n",
       "crews_popularity_sum    0.262988              0.547721              1.000000   \n",
       "budget                  0.298602              0.627959              0.606373   \n",
       "is_good                 0.089654              0.087012              0.109554   \n",
       "\n",
       "                        budget   is_good  \n",
       "popularity            0.298602  0.089654  \n",
       "casts_popularity_sum  0.627959  0.087012  \n",
       "crews_popularity_sum  0.606373  0.109554  \n",
       "budget                1.000000  0.001421  \n",
       "is_good               0.001421  1.000000  "
      ]
     },
     "execution_count": 10,
     "metadata": {},
     "output_type": "execute_result"
    }
   ],
   "source": [
    "#Assign x and y value\n",
    "y_train = train['is_good']\n",
    "x_train = train.drop(['is_good'], axis = 1) # Remove the response variable\n",
    "y_test = test['is_good']\n",
    "x_test = test.drop(['is_good'], axis = 1) # Remove the response variable\n",
    "\n",
    "#The correlation of data\n",
    "train.corr()"
   ]
  },
  {
   "cell_type": "code",
   "execution_count": 11,
   "metadata": {},
   "outputs": [
    {
     "name": "stdout",
     "output_type": "stream",
     "text": [
      "The odds of a movie is good in train dataset is\t:  0.258967183922666\n",
      "The overall classification accuracy \t\t:  0.7779349363507779\n"
     ]
    }
   ],
   "source": [
    "#Calculate the odd of a movie is good\n",
    "print(\"The odds of a movie is good in train dataset is\\t: \", y_train.value_counts()[1]/y_train.value_counts()[0])\n",
    "\n",
    "#Perform the logistics regression\n",
    "logreg1 = LogisticRegression()\n",
    " \n",
    "#Fit the data\n",
    "logreg1.fit(x_train,y_train)\n",
    "\n",
    "#Print out the mean acuuracy\n",
    "print(\"The overall classification accuracy \\t\\t: \", logreg1.score(x_test,y_test))"
   ]
  },
  {
   "cell_type": "code",
   "execution_count": 12,
   "metadata": {},
   "outputs": [
    {
     "data": {
      "image/png": "[encoded data removed]",
      "text/plain": [
       "<Figure size 576x576 with 2 Axes>"
      ]
     },
     "metadata": {
      "needs_background": "light"
     },
     "output_type": "display_data"
    },
    {
     "data": {
      "image/png": "[encoded data removed]",
      "text/plain": [
       "<Figure size 576x576 with 2 Axes>"
      ]
     },
     "metadata": {
      "needs_background": "light"
     },
     "output_type": "display_data"
    }
   ],
   "source": [
    "#Predict the data\n",
    "y_train_pred = logreg1.predict(x_train)\n",
    "y_test_pred = logreg1.predict(x_test)\n",
    "\n",
    "#Visualizing the data\n",
    "table1 = visualize_preds(table1,y_train,y_train_pred, title = 'Random Sampling (TRAIN)')\n",
    "table2 = visualize_preds(table2,y_test,y_test_pred, title = 'Random Sampling (TEST)')"
   ]
  },
  {
   "cell_type": "markdown",
   "metadata": {},
   "source": [
    "## 2. Classification of oversampling train by Logistic Regression"
   ]
  },
  {
   "cell_type": "code",
   "execution_count": 13,
   "metadata": {},
   "outputs": [
    {
     "data": {
      "text/html": [
       "<div>\n",
       "<style scoped>\n",
       "    .dataframe tbody tr th:only-of-type {\n",
       "        vertical-align: middle;\n",
       "    }\n",
       "\n",
       "    .dataframe tbody tr th {\n",
       "        vertical-align: top;\n",
       "    }\n",
       "\n",
       "    .dataframe thead th {\n",
       "        text-align: right;\n",
       "    }\n",
       "</style>\n",
       "<table border=\"1\" class=\"dataframe\">\n",
       "  <thead>\n",
       "    <tr style=\"text-align: right;\">\n",
       "      <th></th>\n",
       "      <th>popularity</th>\n",
       "      <th>casts_popularity_sum</th>\n",
       "      <th>crews_popularity_sum</th>\n",
       "      <th>budget</th>\n",
       "      <th>is_good</th>\n",
       "    </tr>\n",
       "  </thead>\n",
       "  <tbody>\n",
       "    <tr>\n",
       "      <th>popularity</th>\n",
       "      <td>1.000000</td>\n",
       "      <td>0.281270</td>\n",
       "      <td>0.253074</td>\n",
       "      <td>0.307970</td>\n",
       "      <td>0.101899</td>\n",
       "    </tr>\n",
       "    <tr>\n",
       "      <th>casts_popularity_sum</th>\n",
       "      <td>0.281270</td>\n",
       "      <td>1.000000</td>\n",
       "      <td>0.539087</td>\n",
       "      <td>0.633633</td>\n",
       "      <td>0.095573</td>\n",
       "    </tr>\n",
       "    <tr>\n",
       "      <th>crews_popularity_sum</th>\n",
       "      <td>0.253074</td>\n",
       "      <td>0.539087</td>\n",
       "      <td>1.000000</td>\n",
       "      <td>0.595812</td>\n",
       "      <td>0.125451</td>\n",
       "    </tr>\n",
       "    <tr>\n",
       "      <th>budget</th>\n",
       "      <td>0.307970</td>\n",
       "      <td>0.633633</td>\n",
       "      <td>0.595812</td>\n",
       "      <td>1.000000</td>\n",
       "      <td>0.002633</td>\n",
       "    </tr>\n",
       "    <tr>\n",
       "      <th>is_good</th>\n",
       "      <td>0.101899</td>\n",
       "      <td>0.095573</td>\n",
       "      <td>0.125451</td>\n",
       "      <td>0.002633</td>\n",
       "      <td>1.000000</td>\n",
       "    </tr>\n",
       "  </tbody>\n",
       "</table>\n",
       "</div>"
      ],
      "text/plain": [
       "                      popularity  casts_popularity_sum  crews_popularity_sum  \\\n",
       "popularity              1.000000              0.281270              0.253074   \n",
       "casts_popularity_sum    0.281270              1.000000              0.539087   \n",
       "crews_popularity_sum    0.253074              0.539087              1.000000   \n",
       "budget                  0.307970              0.633633              0.595812   \n",
       "is_good                 0.101899              0.095573              0.125451   \n",
       "\n",
       "                        budget   is_good  \n",
       "popularity            0.307970  0.101899  \n",
       "casts_popularity_sum  0.633633  0.095573  \n",
       "crews_popularity_sum  0.595812  0.125451  \n",
       "budget                1.000000  0.002633  \n",
       "is_good               0.002633  1.000000  "
      ]
     },
     "execution_count": 13,
     "metadata": {},
     "output_type": "execute_result"
    }
   ],
   "source": [
    "#Assign x and y value\n",
    "y_train = oversampling_train['is_good']\n",
    "x_train = oversampling_train.drop(['is_good'], axis = 1) # Remove the response variable\n",
    "\n",
    "#The correlation of data\n",
    "oversampling_train.corr()"
   ]
  },
  {
   "cell_type": "code",
   "execution_count": 14,
   "metadata": {},
   "outputs": [
    {
     "name": "stdout",
     "output_type": "stream",
     "text": [
      "The odds of a movie is good in train dataset is\t:  0.49987280590180616\n",
      "The overall classification accuracy \t\t:  0.7779349363507779\n"
     ]
    }
   ],
   "source": [
    "#Calculate the odd of a movie is good\n",
    "print(\"The odds of a movie is good in train dataset is\\t: \", y_train.value_counts()[1]/y_train.value_counts()[0])\n",
    "\n",
    "#Perform the logistics regression\n",
    "logreg_oversampling = LogisticRegression()\n",
    " \n",
    "#Fit the data\n",
    "logreg_oversampling.fit(x_train,y_train)\n",
    "\n",
    "#Print out the mean acuuracy\n",
    "print(\"The overall classification accuracy \\t\\t: \", logreg_oversampling.score(x_test,y_test))"
   ]
  },
  {
   "cell_type": "code",
   "execution_count": 15,
   "metadata": {},
   "outputs": [
    {
     "data": {
      "image/png": "[encoded data removed]",
      "text/plain": [
       "<Figure size 576x576 with 2 Axes>"
      ]
     },
     "metadata": {
      "needs_background": "light"
     },
     "output_type": "display_data"
    },
    {
     "data": {
      "image/png": "[encoded data removed]",
      "text/plain": [
       "<Figure size 576x576 with 2 Axes>"
      ]
     },
     "metadata": {
      "needs_background": "light"
     },
     "output_type": "display_data"
    }
   ],
   "source": [
    "#Predict the data\n",
    "y_train_pred = logreg_oversampling.predict(x_train)\n",
    "y_test_pred = logreg_oversampling.predict(x_test)\n",
    "\n",
    "#Visualizing the data\n",
    "table1 = visualize_preds(table1,y_train,y_train_pred, title = 'Oversampling (TRAIN)')\n",
    "table2 = visualize_preds(table2,y_test,y_test_pred,'Oversampling (TEST)')"
   ]
  },
  {
   "cell_type": "code",
   "execution_count": null,
   "metadata": {},
   "outputs": [],
   "source": []
  },
  {
   "cell_type": "markdown",
   "metadata": {},
   "source": [
    "## 3.Classification of smoteenn train using Logistic Regression"
   ]
  },
  {
   "cell_type": "code",
   "execution_count": 16,
   "metadata": {},
   "outputs": [
    {
     "data": {
      "text/html": [
       "<div>\n",
       "<style scoped>\n",
       "    .dataframe tbody tr th:only-of-type {\n",
       "        vertical-align: middle;\n",
       "    }\n",
       "\n",
       "    .dataframe tbody tr th {\n",
       "        vertical-align: top;\n",
       "    }\n",
       "\n",
       "    .dataframe thead th {\n",
       "        text-align: right;\n",
       "    }\n",
       "</style>\n",
       "<table border=\"1\" class=\"dataframe\">\n",
       "  <thead>\n",
       "    <tr style=\"text-align: right;\">\n",
       "      <th></th>\n",
       "      <th>popularity</th>\n",
       "      <th>casts_popularity_sum</th>\n",
       "      <th>crews_popularity_sum</th>\n",
       "      <th>budget</th>\n",
       "      <th>is_good</th>\n",
       "    </tr>\n",
       "  </thead>\n",
       "  <tbody>\n",
       "    <tr>\n",
       "      <th>popularity</th>\n",
       "      <td>1.000000</td>\n",
       "      <td>0.380063</td>\n",
       "      <td>0.339282</td>\n",
       "      <td>0.375794</td>\n",
       "      <td>0.152676</td>\n",
       "    </tr>\n",
       "    <tr>\n",
       "      <th>casts_popularity_sum</th>\n",
       "      <td>0.380063</td>\n",
       "      <td>1.000000</td>\n",
       "      <td>0.661458</td>\n",
       "      <td>0.722744</td>\n",
       "      <td>0.139101</td>\n",
       "    </tr>\n",
       "    <tr>\n",
       "      <th>crews_popularity_sum</th>\n",
       "      <td>0.339282</td>\n",
       "      <td>0.661458</td>\n",
       "      <td>1.000000</td>\n",
       "      <td>0.690586</td>\n",
       "      <td>0.166583</td>\n",
       "    </tr>\n",
       "    <tr>\n",
       "      <th>budget</th>\n",
       "      <td>0.375794</td>\n",
       "      <td>0.722744</td>\n",
       "      <td>0.690586</td>\n",
       "      <td>1.000000</td>\n",
       "      <td>0.011166</td>\n",
       "    </tr>\n",
       "    <tr>\n",
       "      <th>is_good</th>\n",
       "      <td>0.152676</td>\n",
       "      <td>0.139101</td>\n",
       "      <td>0.166583</td>\n",
       "      <td>0.011166</td>\n",
       "      <td>1.000000</td>\n",
       "    </tr>\n",
       "  </tbody>\n",
       "</table>\n",
       "</div>"
      ],
      "text/plain": [
       "                      popularity  casts_popularity_sum  crews_popularity_sum  \\\n",
       "popularity              1.000000              0.380063              0.339282   \n",
       "casts_popularity_sum    0.380063              1.000000              0.661458   \n",
       "crews_popularity_sum    0.339282              0.661458              1.000000   \n",
       "budget                  0.375794              0.722744              0.690586   \n",
       "is_good                 0.152676              0.139101              0.166583   \n",
       "\n",
       "                        budget   is_good  \n",
       "popularity            0.375794  0.152676  \n",
       "casts_popularity_sum  0.722744  0.139101  \n",
       "crews_popularity_sum  0.690586  0.166583  \n",
       "budget                1.000000  0.011166  \n",
       "is_good               0.011166  1.000000  "
      ]
     },
     "execution_count": 16,
     "metadata": {},
     "output_type": "execute_result"
    }
   ],
   "source": [
    "#Assign x and y value\n",
    "y_train = smoteenn_train['is_good']\n",
    "x_train = smoteenn_train.drop(['is_good'], axis = 1) # Remove the response variable\n",
    "\n",
    "#The correlation of data\n",
    "smoteenn_train.corr()"
   ]
  },
  {
   "cell_type": "code",
   "execution_count": 17,
   "metadata": {},
   "outputs": [
    {
     "name": "stdout",
     "output_type": "stream",
     "text": [
      "The odds of a movie is good in train dataset is\t:  1.1042141230068336\n",
      "The overall classification accuracy \t\t:  0.22206506364922207\n"
     ]
    }
   ],
   "source": [
    "#Calculate the odd of a movie is good\n",
    "print(\"The odds of a movie is good in train dataset is\\t: \", y_train.value_counts()[1]/y_train.value_counts()[0])\n",
    "\n",
    "#Perform the logistics regression\n",
    "logreg_smoteenn = LogisticRegression()\n",
    " \n",
    "#Fit the data\n",
    "logreg_smoteenn.fit(x_train,y_train)\n",
    "\n",
    "#Print out the mean acuuracy\n",
    "print(\"The overall classification accuracy \\t\\t: \", logreg_smoteenn.score(x_test,y_test))"
   ]
  },
  {
   "cell_type": "code",
   "execution_count": 18,
   "metadata": {},
   "outputs": [
    {
     "data": {
      "image/png": "[encoded data removed]",
      "text/plain": [
       "<Figure size 576x576 with 2 Axes>"
      ]
     },
     "metadata": {
      "needs_background": "light"
     },
     "output_type": "display_data"
    },
    {
     "data": {
      "image/png": "[encoded data removed]",
      "text/plain": [
       "<Figure size 576x576 with 2 Axes>"
      ]
     },
     "metadata": {
      "needs_background": "light"
     },
     "output_type": "display_data"
    }
   ],
   "source": [
    "#Predict the data\n",
    "y_train_pred = logreg_smoteenn.predict(x_train)\n",
    "y_test_pred = logreg_smoteenn.predict(x_test)\n",
    "\n",
    "#Visualizing the data\n",
    "table1 = visualize_preds(table1,y_train,y_train_pred, title = 'SMOTEENN (TRAIN)')\n",
    "table2 = visualize_preds(table2,y_test,y_test_pred,'SMOTEENN (TEST)')"
   ]
  },
  {
   "cell_type": "code",
   "execution_count": null,
   "metadata": {},
   "outputs": [],
   "source": []
  },
  {
   "cell_type": "markdown",
   "metadata": {},
   "source": [
    "## 4. Classification of smotetomek train using Logistic Regression"
   ]
  },
  {
   "cell_type": "code",
   "execution_count": 19,
   "metadata": {},
   "outputs": [
    {
     "data": {
      "text/html": [
       "<div>\n",
       "<style scoped>\n",
       "    .dataframe tbody tr th:only-of-type {\n",
       "        vertical-align: middle;\n",
       "    }\n",
       "\n",
       "    .dataframe tbody tr th {\n",
       "        vertical-align: top;\n",
       "    }\n",
       "\n",
       "    .dataframe thead th {\n",
       "        text-align: right;\n",
       "    }\n",
       "</style>\n",
       "<table border=\"1\" class=\"dataframe\">\n",
       "  <thead>\n",
       "    <tr style=\"text-align: right;\">\n",
       "      <th></th>\n",
       "      <th>popularity</th>\n",
       "      <th>casts_popularity_sum</th>\n",
       "      <th>crews_popularity_sum</th>\n",
       "      <th>budget</th>\n",
       "      <th>is_good</th>\n",
       "    </tr>\n",
       "  </thead>\n",
       "  <tbody>\n",
       "    <tr>\n",
       "      <th>popularity</th>\n",
       "      <td>1.000000</td>\n",
       "      <td>0.325325</td>\n",
       "      <td>0.282471</td>\n",
       "      <td>0.326616</td>\n",
       "      <td>0.121546</td>\n",
       "    </tr>\n",
       "    <tr>\n",
       "      <th>casts_popularity_sum</th>\n",
       "      <td>0.325325</td>\n",
       "      <td>1.000000</td>\n",
       "      <td>0.623341</td>\n",
       "      <td>0.684323</td>\n",
       "      <td>0.107451</td>\n",
       "    </tr>\n",
       "    <tr>\n",
       "      <th>crews_popularity_sum</th>\n",
       "      <td>0.282471</td>\n",
       "      <td>0.623341</td>\n",
       "      <td>1.000000</td>\n",
       "      <td>0.663896</td>\n",
       "      <td>0.130573</td>\n",
       "    </tr>\n",
       "    <tr>\n",
       "      <th>budget</th>\n",
       "      <td>0.326616</td>\n",
       "      <td>0.684323</td>\n",
       "      <td>0.663896</td>\n",
       "      <td>1.000000</td>\n",
       "      <td>-0.000574</td>\n",
       "    </tr>\n",
       "    <tr>\n",
       "      <th>is_good</th>\n",
       "      <td>0.121546</td>\n",
       "      <td>0.107451</td>\n",
       "      <td>0.130573</td>\n",
       "      <td>-0.000574</td>\n",
       "      <td>1.000000</td>\n",
       "    </tr>\n",
       "  </tbody>\n",
       "</table>\n",
       "</div>"
      ],
      "text/plain": [
       "                      popularity  casts_popularity_sum  crews_popularity_sum  \\\n",
       "popularity              1.000000              0.325325              0.282471   \n",
       "casts_popularity_sum    0.325325              1.000000              0.623341   \n",
       "crews_popularity_sum    0.282471              0.623341              1.000000   \n",
       "budget                  0.326616              0.684323              0.663896   \n",
       "is_good                 0.121546              0.107451              0.130573   \n",
       "\n",
       "                        budget   is_good  \n",
       "popularity            0.326616  0.121546  \n",
       "casts_popularity_sum  0.684323  0.107451  \n",
       "crews_popularity_sum  0.663896  0.130573  \n",
       "budget                1.000000 -0.000574  \n",
       "is_good              -0.000574  1.000000  "
      ]
     },
     "execution_count": 19,
     "metadata": {},
     "output_type": "execute_result"
    }
   ],
   "source": [
    "#Assign x and y value\n",
    "y_train = smotetomek_train['is_good']\n",
    "x_train = smotetomek_train.drop(['is_good'], axis = 1) # Remove the response variable\n",
    "\n",
    "#The correlation of data\n",
    "smotetomek_train.corr()"
   ]
  },
  {
   "cell_type": "code",
   "execution_count": 20,
   "metadata": {},
   "outputs": [
    {
     "name": "stdout",
     "output_type": "stream",
     "text": [
      "The odds of a movie is good in train dataset is\t:  1.0\n",
      "The overall classification accuracy \t\t:  0.776991984912777\n"
     ]
    }
   ],
   "source": [
    "#Calculate the odd of a movie is good\n",
    "print(\"The odds of a movie is good in train dataset is\\t: \", y_train.value_counts()[1]/y_train.value_counts()[0])\n",
    "\n",
    "#Perform the logistics regression\n",
    "logreg_smotetomek = LogisticRegression()\n",
    " \n",
    "#Fit the data\n",
    "logreg_smotetomek.fit(x_train,y_train)\n",
    "\n",
    "#Print out the mean accuracy\n",
    "print(\"The overall classification accuracy \\t\\t: \", logreg_smotetomek.score(x_test,y_test))"
   ]
  },
  {
   "cell_type": "code",
   "execution_count": 21,
   "metadata": {},
   "outputs": [
    {
     "data": {
      "image/png": "[encoded data removed]",
      "text/plain": [
       "<Figure size 576x576 with 2 Axes>"
      ]
     },
     "metadata": {
      "needs_background": "light"
     },
     "output_type": "display_data"
    },
    {
     "data": {
      "image/png": "[encoded data removed]",
      "text/plain": [
       "<Figure size 576x576 with 2 Axes>"
      ]
     },
     "metadata": {
      "needs_background": "light"
     },
     "output_type": "display_data"
    }
   ],
   "source": [
    "#Predict the data\n",
    "y_train_pred = logreg_smotetomek.predict(x_train)\n",
    "y_test_pred = logreg_smotetomek.predict(x_test)\n",
    "\n",
    "#Visualizing the data\n",
    "table1 = visualize_preds(table1,y_train,y_train_pred, title = 'SMOTETOMEK (TRAIN)')\n",
    "table2 = visualize_preds(table2,y_test,y_test_pred,'SMOTETOMEK (TEST)')"
   ]
  },
  {
   "cell_type": "code",
   "execution_count": 30,
   "metadata": {},
   "outputs": [],
   "source": [
    "def draw_figure(table, row, title):\n",
    "    plt.figure(figsize=(8, 6))\n",
    "    plt.title(title)\n",
    "    plt.ylim([0,1])\n",
    "    splot = sb.barplot(x = ['Original','Oversampling','SMOTEENN','SMOTETomek'],y = table.iloc[row,:])\n",
    "    for p in splot.patches:\n",
    "        if p.get_height() == 0:\n",
    "            splot.annotate(format(p.get_height(), '.2f'), \n",
    "                           (p.get_x() + p.get_width() / 2., p.get_height()), \n",
    "                           ha = 'center', va = 'center', \n",
    "                           xytext = (0, 9), \n",
    "                           textcoords = 'offset points')\n",
    "        else:\n",
    "            splot.annotate(format(p.get_height(), '.2f'), \n",
    "                           (p.get_x() + p.get_width() / 2., p.get_height()), \n",
    "                           ha = 'center', va = 'center', \n",
    "                           xytext = (0, -12), \n",
    "                           textcoords = 'offset points')\n",
    "    "
   ]
  },
  {
   "cell_type": "code",
   "execution_count": 31,
   "metadata": {},
   "outputs": [
    {
     "data": {
      "text/html": [
       "<div>\n",
       "<style scoped>\n",
       "    .dataframe tbody tr th:only-of-type {\n",
       "        vertical-align: middle;\n",
       "    }\n",
       "\n",
       "    .dataframe tbody tr th {\n",
       "        vertical-align: top;\n",
       "    }\n",
       "\n",
       "    .dataframe thead th {\n",
       "        text-align: right;\n",
       "    }\n",
       "</style>\n",
       "<table border=\"1\" class=\"dataframe\">\n",
       "  <thead>\n",
       "    <tr style=\"text-align: right;\">\n",
       "      <th></th>\n",
       "      <th>Original</th>\n",
       "      <th>Oversampling</th>\n",
       "      <th>SMOTEENN</th>\n",
       "      <th>SMOTETomek</th>\n",
       "    </tr>\n",
       "  </thead>\n",
       "  <tbody>\n",
       "    <tr>\n",
       "      <th>Accuracy</th>\n",
       "      <td>0.794302</td>\n",
       "      <td>0.666723</td>\n",
       "      <td>0.524763</td>\n",
       "      <td>0.499417</td>\n",
       "    </tr>\n",
       "    <tr>\n",
       "      <th>Precision</th>\n",
       "      <td>0.000000</td>\n",
       "      <td>0.000000</td>\n",
       "      <td>0.524763</td>\n",
       "      <td>0.000000</td>\n",
       "    </tr>\n",
       "    <tr>\n",
       "      <th>Recall</th>\n",
       "      <td>0.000000</td>\n",
       "      <td>0.000000</td>\n",
       "      <td>1.000000</td>\n",
       "      <td>0.000000</td>\n",
       "    </tr>\n",
       "    <tr>\n",
       "      <th>f1 Score</th>\n",
       "      <td>0.000000</td>\n",
       "      <td>0.000000</td>\n",
       "      <td>0.688321</td>\n",
       "      <td>0.000000</td>\n",
       "    </tr>\n",
       "  </tbody>\n",
       "</table>\n",
       "</div>"
      ],
      "text/plain": [
       "           Original  Oversampling  SMOTEENN  SMOTETomek\n",
       "Accuracy   0.794302      0.666723  0.524763    0.499417\n",
       "Precision  0.000000      0.000000  0.524763    0.000000\n",
       "Recall     0.000000      0.000000  1.000000    0.000000\n",
       "f1 Score   0.000000      0.000000  0.688321    0.000000"
      ]
     },
     "execution_count": 31,
     "metadata": {},
     "output_type": "execute_result"
    }
   ],
   "source": [
    "table1 = table1.set_axis(['Original','Oversampling','SMOTEENN','SMOTETomek'],axis = 1)\n",
    "table1 = table1.set_axis(['Accuracy','Precision','Recall','f1 Score'],axis = 0)\n",
    "#table1.to_csv('train.csv')\n",
    "table1"
   ]
  },
  {
   "cell_type": "code",
   "execution_count": 32,
   "metadata": {},
   "outputs": [
    {
     "data": {
      "image/png": "[encoded data removed]",
      "text/plain": [
       "<Figure size 576x432 with 1 Axes>"
      ]
     },
     "metadata": {
      "needs_background": "light"
     },
     "output_type": "display_data"
    }
   ],
   "source": [
    "draw_figure(table1,0,\"Accuracy Across 4 Datasets\")"
   ]
  },
  {
   "cell_type": "code",
   "execution_count": 33,
   "metadata": {},
   "outputs": [
    {
     "data": {
      "image/png": "[encoded data removed]",
      "text/plain": [
       "<Figure size 576x432 with 1 Axes>"
      ]
     },
     "metadata": {
      "needs_background": "light"
     },
     "output_type": "display_data"
    }
   ],
   "source": [
    "draw_figure(table1, 1 ,\"Precision Across 4 Datasets\")"
   ]
  },
  {
   "cell_type": "code",
   "execution_count": 34,
   "metadata": {
    "scrolled": true
   },
   "outputs": [
    {
     "data": {
      "image/png": "[encoded data removed]",
      "text/plain": [
       "<Figure size 576x432 with 1 Axes>"
      ]
     },
     "metadata": {
      "needs_background": "light"
     },
     "output_type": "display_data"
    }
   ],
   "source": [
    "draw_figure(table1, 2, \"Recall Across 4 Datasets\")"
   ]
  },
  {
   "cell_type": "code",
   "execution_count": 35,
   "metadata": {},
   "outputs": [
    {
     "data": {
      "image/png": "[encoded data removed]",
      "text/plain": [
       "<Figure size 576x432 with 1 Axes>"
      ]
     },
     "metadata": {
      "needs_background": "light"
     },
     "output_type": "display_data"
    }
   ],
   "source": [
    "draw_figure(table1,3 ,\"F1 Score Across 4 Datasets\")"
   ]
  },
  {
   "cell_type": "code",
   "execution_count": null,
   "metadata": {},
   "outputs": [],
   "source": []
  },
  {
   "cell_type": "code",
   "execution_count": 36,
   "metadata": {},
   "outputs": [
    {
     "data": {
      "text/html": [
       "<div>\n",
       "<style scoped>\n",
       "    .dataframe tbody tr th:only-of-type {\n",
       "        vertical-align: middle;\n",
       "    }\n",
       "\n",
       "    .dataframe tbody tr th {\n",
       "        vertical-align: top;\n",
       "    }\n",
       "\n",
       "    .dataframe thead th {\n",
       "        text-align: right;\n",
       "    }\n",
       "</style>\n",
       "<table border=\"1\" class=\"dataframe\">\n",
       "  <thead>\n",
       "    <tr style=\"text-align: right;\">\n",
       "      <th></th>\n",
       "      <th>Original</th>\n",
       "      <th>Oversampling</th>\n",
       "      <th>SMOTEENN</th>\n",
       "      <th>SMOTETomek</th>\n",
       "    </tr>\n",
       "  </thead>\n",
       "  <tbody>\n",
       "    <tr>\n",
       "      <th>Accuracy</th>\n",
       "      <td>0.777935</td>\n",
       "      <td>0.777935</td>\n",
       "      <td>0.222065</td>\n",
       "      <td>0.776992</td>\n",
       "    </tr>\n",
       "    <tr>\n",
       "      <th>Precision</th>\n",
       "      <td>0.000000</td>\n",
       "      <td>0.000000</td>\n",
       "      <td>0.222065</td>\n",
       "      <td>0.000000</td>\n",
       "    </tr>\n",
       "    <tr>\n",
       "      <th>Recall</th>\n",
       "      <td>0.000000</td>\n",
       "      <td>0.000000</td>\n",
       "      <td>1.000000</td>\n",
       "      <td>0.000000</td>\n",
       "    </tr>\n",
       "    <tr>\n",
       "      <th>f1 Score</th>\n",
       "      <td>0.000000</td>\n",
       "      <td>0.000000</td>\n",
       "      <td>0.363426</td>\n",
       "      <td>0.000000</td>\n",
       "    </tr>\n",
       "  </tbody>\n",
       "</table>\n",
       "</div>"
      ],
      "text/plain": [
       "           Original  Oversampling  SMOTEENN  SMOTETomek\n",
       "Accuracy   0.777935      0.777935  0.222065    0.776992\n",
       "Precision  0.000000      0.000000  0.222065    0.000000\n",
       "Recall     0.000000      0.000000  1.000000    0.000000\n",
       "f1 Score   0.000000      0.000000  0.363426    0.000000"
      ]
     },
     "execution_count": 36,
     "metadata": {},
     "output_type": "execute_result"
    }
   ],
   "source": [
    "table2 = table2.set_axis(['Original','Oversampling','SMOTEENN','SMOTETomek'],axis = 1)\n",
    "table2 = table2.set_axis(['Accuracy','Precision','Recall','f1 Score'],axis = 0)\n",
    "#table2.to_csv('test.csv')\n",
    "table2"
   ]
  },
  {
   "cell_type": "code",
   "execution_count": 37,
   "metadata": {},
   "outputs": [
    {
     "data": {
      "image/png": "[encoded data removed]",
      "text/plain": [
       "<Figure size 576x432 with 1 Axes>"
      ]
     },
     "metadata": {
      "needs_background": "light"
     },
     "output_type": "display_data"
    }
   ],
   "source": [
    "draw_figure(table2, 0, \"Accuracy Across 4 Datasets\")"
   ]
  },
  {
   "cell_type": "code",
   "execution_count": 38,
   "metadata": {},
   "outputs": [
    {
     "data": {
      "image/png": "[encoded data removed]",
      "text/plain": [
       "<Figure size 576x432 with 1 Axes>"
      ]
     },
     "metadata": {
      "needs_background": "light"
     },
     "output_type": "display_data"
    }
   ],
   "source": [
    "draw_figure(table2, 1, \"Precision Across 4 Datasets\")"
   ]
  },
  {
   "cell_type": "code",
   "execution_count": 39,
   "metadata": {},
   "outputs": [
    {
     "data": {
      "image/png": "[encoded data removed]",
      "text/plain": [
       "<Figure size 576x432 with 1 Axes>"
      ]
     },
     "metadata": {
      "needs_background": "light"
     },
     "output_type": "display_data"
    }
   ],
   "source": [
    "draw_figure(table2, 2, \"Recall Across 4 Datasets\")"
   ]
  },
  {
   "cell_type": "code",
   "execution_count": 40,
   "metadata": {},
   "outputs": [
    {
     "data": {
      "image/png": "[encoded data removed]",
      "text/plain": [
       "<Figure size 576x432 with 1 Axes>"
      ]
     },
     "metadata": {
      "needs_background": "light"
     },
     "output_type": "display_data"
    }
   ],
   "source": [
    "draw_figure(table2, 3, \"F1 Score Across 4 Datasets\")"
   ]
  },
  {
   "cell_type": "raw",
   "metadata": {},
   "source": []
  }
 ],
 "metadata": {
  "kernelspec": {
   "display_name": "Python 3",
   "language": "python",
   "name": "python3"
  },
  "language_info": {
   "codemirror_mode": {
    "name": "ipython",
    "version": 3
   },
   "file_extension": ".py",
   "mimetype": "text/x-python",
   "name": "python",
   "nbconvert_exporter": "python",
   "pygments_lexer": "ipython3",
   "version": "3.8.5"
  }
 },
 "nbformat": 4,
 "nbformat_minor": 4
}
