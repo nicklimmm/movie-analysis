{
 "cells": [
  {
   "cell_type": "markdown",
   "metadata": {},
   "source": [
    "# Consideration\n",
    "- Use Huber loss function that is less sensitive to outliers in data than the squared error loss <br>\n",
    "    [Which loss functions to choose?](https://heartbeat.fritz.ai/5-regression-loss-functions-all-machine-learners-should-know-4fb140e9d4b0)\n",
    "- Try other loss functions\n",
    "- Use metrics\n",
    "- Overfit first, then regularize the model\n",
    "\n",
    "# References\n",
    "- [ANN Viz](https://towardsdatascience.com/visualizing-artificial-neural-networks-anns-with-just-one-line-of-code-b4233607209e)\n",
    "- [Handling Imbalanced Data](https://www.tensorflow.org/tutorials/structured_data/imbalanced_data)\n",
    "- [NN Classification](https://www.annytab.com/neural-network-classification-in-python/)"
   ]
  },
  {
   "cell_type": "markdown",
   "metadata": {},
   "source": [
    "# Import necessary modules"
   ]
  },
  {
   "cell_type": "code",
   "execution_count": 2,
   "metadata": {},
   "outputs": [],
   "source": [
    "# For data processing\n",
    "import numpy as np\n",
    "import pandas as pd\n",
    "\n",
    "# For data visualization\n",
    "import matplotlib.pyplot as plt\n",
    "import seaborn as sns\n",
    "\n",
    "# For Model\n",
    "from keras.models import Sequential\n",
    "from keras.layers import Dense\n",
    "from sklearn.metrics import confusion_matrix\n",
    "from sklearn.model_selection import train_test_split\n",
    "from sklearn.preprocessing import StandardScaler\n",
    "\n",
    "# For NN Visualization\n",
    "from ann_visualizer.visualize import ann_viz"
   ]
  },
  {
   "cell_type": "markdown",
   "metadata": {},
   "source": [
    "# Helper functions"
   ]
  },
  {
   "cell_type": "code",
   "execution_count": 3,
   "metadata": {},
   "outputs": [],
   "source": [
    "def train_val_test_split(data, train=0.6, val=0.2):\n",
    "    \"\"\"\n",
    "    Splits the DF into train, validation, and test set.\n",
    "    \n",
    "    The proportion of the dataset is\n",
    "        - training set = train\n",
    "        - validation set = val\n",
    "        - test set = 1 - train - val\n",
    "    and the proportion above must be in between 0 and 1.\n",
    "    \n",
    "    Note: Make sure that the response should be\n",
    "          in the last column of the DF.\n",
    "          \n",
    "    Returns the X and y data for each set.\n",
    "    \"\"\"\n",
    "    train, val, test = np.split(data.sample(frac=1), \n",
    "                                [int(train * len(df)), \n",
    "                                 int((train + val) * len(df))])\n",
    "    \n",
    "    # Here we remove the 2nd last column (vote_count)\n",
    "    X_train, y_train = train.iloc[:, :-2], train.iloc[:, -1]\n",
    "    X_val, y_val = val.iloc[:, :-2], val.iloc[:, -1]\n",
    "    X_test, y_test = test.iloc[:, :-2], test.iloc[:, -1]\n",
    "    \n",
    "    return X_train, X_val, X_test, y_train, y_val, y_test"
   ]
  },
  {
   "cell_type": "code",
   "execution_count": 4,
   "metadata": {},
   "outputs": [],
   "source": [
    "def create_model(hidden_layer_units, input_dim, loss, optimizer, metrics):\n",
    "    \"\"\"\n",
    "    Inputs:\n",
    "    - hidden_layer_units -> a list of ints specifying the number of \n",
    "                            units for every layer\n",
    "    - metrics -> a list of metrics\n",
    "    \n",
    "    Creates a neural network classifier model with:\n",
    "        - l hidden layers, where l is len(hidden_layer_units)\n",
    "        - hidden_layer_units[i] units/nodes for i'th layer\n",
    "        - specified input dimension, loss function,\n",
    "          optimizer, and metrics.\n",
    "    \n",
    "    Returns the classifier model.\n",
    "    \"\"\"\n",
    "    \n",
    "    model = Sequential()\n",
    "    \n",
    "    # First hidden layer\n",
    "    model.add(Dense(hidden_layer_units[0], \n",
    "                    activation='relu', \n",
    "                    input_dim=input_dim))\n",
    "    \n",
    "    # Add the rest of the hidden layers\n",
    "    for units in hidden_layer_units[1:]:\n",
    "        model.add(Dense(units, activation='relu'))\n",
    "    \n",
    "    # Output layer\n",
    "    # For the output's range to be in [0, 1], we use sigmoid\n",
    "    model.add(Dense(1, activation='sigmoid'))\n",
    "    \n",
    "    model.compile(loss=loss, optimizer=optimizer, metrics=metrics)\n",
    "    \n",
    "    return model"
   ]
  },
  {
   "cell_type": "code",
   "execution_count": 28,
   "metadata": {},
   "outputs": [],
   "source": [
    "def visualize_preds(y_true, y_pred):\n",
    "    cf = confusion_matrix(y_true, y_pred)\n",
    "    sns.heatmap(cf, fmt='.0f', annot=True)\n",
    "    \n",
    "    accuracy  = np.trace(cf) / float(np.sum(cf))\n",
    "\n",
    "    #Metrics for Binary Confusion Matrices\n",
    "    precision = cf[1,1] / sum(cf[:,1])\n",
    "    recall    = cf[1,1] / sum(cf[1,:])\n",
    "    f1_score  = 2 *precision * recall / (precision + recall)\n",
    "    stats_text = \"\\n\\nAccuracy={:0.3f}\\nPrecision={:0.3f}\\nRecall={:0.3f}\\nF1 Score={:0.3f}\".format(\n",
    "        accuracy,precision,recall,f1_score)\n",
    "    \n",
    "    plt.xlabel('Predicted' + stats_text)\n",
    "    plt.ylabel('Actual')"
   ]
  },
  {
   "cell_type": "code",
   "execution_count": 51,
   "metadata": {},
   "outputs": [],
   "source": [
    "def visualize_training_history(history):\n",
    "    f, ax = plt.subplots(2, figsize=(16, 14))\n",
    "    \n",
    "    ax[0].plot(history.history['loss'], label='loss (training data)')\n",
    "    ax[0].plot(history.history['val_loss'], label='loss (validation data)')\n",
    "    ax[0].set_title('Loss History')\n",
    "    ax[0].set(ylabel='Loss', xlabel='Number of Epochs')\n",
    "    ax[0].legend(loc=\"upper right\")\n",
    "\n",
    "    ax[1].plot(history.history['accuracy'], label='accuracy (training data)')\n",
    "    ax[1].plot(history.history['val_accuracy'], label='accuracy (validation data)')\n",
    "    ax[1].set_title('accuracy History')\n",
    "    ax[1].set(ylabel='Loss', xlabel='Number of Epochs')\n",
    "    ax[1].legend(loc=\"upper left\")\n"
   ]
  },
  {
   "cell_type": "markdown",
   "metadata": {},
   "source": [
    "# Import dataset"
   ]
  },
  {
   "cell_type": "code",
   "execution_count": 6,
   "metadata": {},
   "outputs": [
    {
     "data": {
      "text/html": [
       "<div>\n",
       "<style scoped>\n",
       "    .dataframe tbody tr th:only-of-type {\n",
       "        vertical-align: middle;\n",
       "    }\n",
       "\n",
       "    .dataframe tbody tr th {\n",
       "        vertical-align: top;\n",
       "    }\n",
       "\n",
       "    .dataframe thead th {\n",
       "        text-align: right;\n",
       "    }\n",
       "</style>\n",
       "<table border=\"1\" class=\"dataframe\">\n",
       "  <thead>\n",
       "    <tr style=\"text-align: right;\">\n",
       "      <th></th>\n",
       "      <th>popularity</th>\n",
       "      <th>top_casts_popularity_avg</th>\n",
       "      <th>casts_popularity_sum</th>\n",
       "      <th>top_cast_popularity</th>\n",
       "      <th>top_crews_popularity_avg</th>\n",
       "      <th>crews_popularity_sum</th>\n",
       "      <th>top_crew_popularity</th>\n",
       "      <th>vote_count</th>\n",
       "      <th>vote_average</th>\n",
       "    </tr>\n",
       "  </thead>\n",
       "  <tbody>\n",
       "    <tr>\n",
       "      <th>0</th>\n",
       "      <td>320.418</td>\n",
       "      <td>30.150200</td>\n",
       "      <td>700.041</td>\n",
       "      <td>43.074</td>\n",
       "      <td>10.2326</td>\n",
       "      <td>458.614</td>\n",
       "      <td>14.353</td>\n",
       "      <td>17697</td>\n",
       "      <td>8.3</td>\n",
       "    </tr>\n",
       "    <tr>\n",
       "      <th>1</th>\n",
       "      <td>110.340</td>\n",
       "      <td>7.812800</td>\n",
       "      <td>90.086</td>\n",
       "      <td>9.458</td>\n",
       "      <td>4.3720</td>\n",
       "      <td>716.166</td>\n",
       "      <td>4.712</td>\n",
       "      <td>23132</td>\n",
       "      <td>7.5</td>\n",
       "    </tr>\n",
       "    <tr>\n",
       "      <th>2</th>\n",
       "      <td>88.331</td>\n",
       "      <td>11.909400</td>\n",
       "      <td>194.031</td>\n",
       "      <td>24.581</td>\n",
       "      <td>4.4182</td>\n",
       "      <td>118.140</td>\n",
       "      <td>4.943</td>\n",
       "      <td>18936</td>\n",
       "      <td>7.9</td>\n",
       "    </tr>\n",
       "    <tr>\n",
       "      <th>3</th>\n",
       "      <td>56.382</td>\n",
       "      <td>14.362000</td>\n",
       "      <td>354.880</td>\n",
       "      <td>17.539</td>\n",
       "      <td>5.5236</td>\n",
       "      <td>213.616</td>\n",
       "      <td>11.795</td>\n",
       "      <td>15647</td>\n",
       "      <td>7.4</td>\n",
       "    </tr>\n",
       "    <tr>\n",
       "      <th>4</th>\n",
       "      <td>337.938</td>\n",
       "      <td>30.150200</td>\n",
       "      <td>523.251</td>\n",
       "      <td>43.074</td>\n",
       "      <td>9.7936</td>\n",
       "      <td>492.311</td>\n",
       "      <td>14.353</td>\n",
       "      <td>21403</td>\n",
       "      <td>8.3</td>\n",
       "    </tr>\n",
       "    <tr>\n",
       "      <th>...</th>\n",
       "      <td>...</td>\n",
       "      <td>...</td>\n",
       "      <td>...</td>\n",
       "      <td>...</td>\n",
       "      <td>...</td>\n",
       "      <td>...</td>\n",
       "      <td>...</td>\n",
       "      <td>...</td>\n",
       "      <td>...</td>\n",
       "    </tr>\n",
       "    <tr>\n",
       "      <th>9995</th>\n",
       "      <td>18.002</td>\n",
       "      <td>14.087600</td>\n",
       "      <td>115.494</td>\n",
       "      <td>18.526</td>\n",
       "      <td>1.5426</td>\n",
       "      <td>60.225</td>\n",
       "      <td>2.866</td>\n",
       "      <td>179</td>\n",
       "      <td>4.4</td>\n",
       "    </tr>\n",
       "    <tr>\n",
       "      <th>9996</th>\n",
       "      <td>4.079</td>\n",
       "      <td>2.632600</td>\n",
       "      <td>17.451</td>\n",
       "      <td>3.455</td>\n",
       "      <td>1.1760</td>\n",
       "      <td>12.480</td>\n",
       "      <td>1.484</td>\n",
       "      <td>27</td>\n",
       "      <td>7.0</td>\n",
       "    </tr>\n",
       "    <tr>\n",
       "      <th>9997</th>\n",
       "      <td>8.430</td>\n",
       "      <td>1.677400</td>\n",
       "      <td>11.987</td>\n",
       "      <td>2.392</td>\n",
       "      <td>1.0844</td>\n",
       "      <td>6.022</td>\n",
       "      <td>1.547</td>\n",
       "      <td>53</td>\n",
       "      <td>7.2</td>\n",
       "    </tr>\n",
       "    <tr>\n",
       "      <th>9998</th>\n",
       "      <td>1.988</td>\n",
       "      <td>1.288000</td>\n",
       "      <td>10.640</td>\n",
       "      <td>1.960</td>\n",
       "      <td>0.6320</td>\n",
       "      <td>2.528</td>\n",
       "      <td>0.728</td>\n",
       "      <td>19</td>\n",
       "      <td>5.6</td>\n",
       "    </tr>\n",
       "    <tr>\n",
       "      <th>9999</th>\n",
       "      <td>0.600</td>\n",
       "      <td>1.194333</td>\n",
       "      <td>3.583</td>\n",
       "      <td>1.583</td>\n",
       "      <td>0.6000</td>\n",
       "      <td>0.600</td>\n",
       "      <td>0.600</td>\n",
       "      <td>0</td>\n",
       "      <td>0.0</td>\n",
       "    </tr>\n",
       "  </tbody>\n",
       "</table>\n",
       "<p>9899 rows × 9 columns</p>\n",
       "</div>"
      ],
      "text/plain": [
       "      popularity  top_casts_popularity_avg  casts_popularity_sum  \\\n",
       "0        320.418                 30.150200               700.041   \n",
       "1        110.340                  7.812800                90.086   \n",
       "2         88.331                 11.909400               194.031   \n",
       "3         56.382                 14.362000               354.880   \n",
       "4        337.938                 30.150200               523.251   \n",
       "...          ...                       ...                   ...   \n",
       "9995      18.002                 14.087600               115.494   \n",
       "9996       4.079                  2.632600                17.451   \n",
       "9997       8.430                  1.677400                11.987   \n",
       "9998       1.988                  1.288000                10.640   \n",
       "9999       0.600                  1.194333                 3.583   \n",
       "\n",
       "      top_cast_popularity  top_crews_popularity_avg  crews_popularity_sum  \\\n",
       "0                  43.074                   10.2326               458.614   \n",
       "1                   9.458                    4.3720               716.166   \n",
       "2                  24.581                    4.4182               118.140   \n",
       "3                  17.539                    5.5236               213.616   \n",
       "4                  43.074                    9.7936               492.311   \n",
       "...                   ...                       ...                   ...   \n",
       "9995               18.526                    1.5426                60.225   \n",
       "9996                3.455                    1.1760                12.480   \n",
       "9997                2.392                    1.0844                 6.022   \n",
       "9998                1.960                    0.6320                 2.528   \n",
       "9999                1.583                    0.6000                 0.600   \n",
       "\n",
       "      top_crew_popularity  vote_count  vote_average  \n",
       "0                  14.353       17697           8.3  \n",
       "1                   4.712       23132           7.5  \n",
       "2                   4.943       18936           7.9  \n",
       "3                  11.795       15647           7.4  \n",
       "4                  14.353       21403           8.3  \n",
       "...                   ...         ...           ...  \n",
       "9995                2.866         179           4.4  \n",
       "9996                1.484          27           7.0  \n",
       "9997                1.547          53           7.2  \n",
       "9998                0.728          19           5.6  \n",
       "9999                0.600           0           0.0  \n",
       "\n",
       "[9899 rows x 9 columns]"
      ]
     },
     "execution_count": 6,
     "metadata": {},
     "output_type": "execute_result"
    }
   ],
   "source": [
    "df = pd.read_csv('cleaned-movie-dataset.csv', index_col=0)\n",
    "df"
   ]
  },
  {
   "cell_type": "markdown",
   "metadata": {},
   "source": [
    "# Data splitting"
   ]
  },
  {
   "cell_type": "code",
   "execution_count": 5,
   "metadata": {},
   "outputs": [],
   "source": [
    "# Uncomment this whole block if validation set is not used.\n",
    "\n",
    "# Drop the vote_count column and let the vote_average be the response\n",
    "# X, y = df.iloc[:, :-2], df.iloc[:, -1]\n",
    "\n",
    "# Define good as vote_average > 7.0\n",
    "# y = (y > 7.0).astype('int64')\n",
    "\n",
    "# X_train, X_test, y_train, y_test = train_test_split(X, y, train_size=0.8, \n",
    "#                                                     random_state=7, shuffle=False)\n",
    "# We do not shuffle to keep the results consistent in between sessions"
   ]
  },
  {
   "cell_type": "code",
   "execution_count": 7,
   "metadata": {},
   "outputs": [],
   "source": [
    "# Split the data into train, validation, and test set\n",
    "X_train, X_val, X_test, y_train, y_val, y_test = train_val_test_split(df)\n",
    "\n",
    "# Set the y value to 1 if the movie is good (rating > 7.0)\n",
    "y_train = (y_train > 7.0).astype('int64')\n",
    "y_val = (y_val > 7.0).astype('int64')\n",
    "y_test = (y_test > 7.0).astype('int64')\n",
    "\n",
    "# Standardize the inputs\n",
    "scaler = StandardScaler()\n",
    "X_train = scaler.fit_transform(X_train)\n",
    "X_val = scaler.transform(X_val)\n",
    "X_test = scaler.transform(X_test)"
   ]
  },
  {
   "cell_type": "markdown",
   "metadata": {},
   "source": [
    "# Model training"
   ]
  },
  {
   "cell_type": "markdown",
   "metadata": {},
   "source": [
    "## 1. First Model"
   ]
  },
  {
   "cell_type": "code",
   "execution_count": 30,
   "metadata": {},
   "outputs": [
    {
     "name": "stdout",
     "output_type": "stream",
     "text": [
      "Model: \"sequential_1\"\n",
      "_________________________________________________________________\n",
      "Layer (type)                 Output Shape              Param #   \n",
      "=================================================================\n",
      "dense_5 (Dense)              (None, 64)                512       \n",
      "_________________________________________________________________\n",
      "dense_6 (Dense)              (None, 64)                4160      \n",
      "_________________________________________________________________\n",
      "dense_7 (Dense)              (None, 64)                4160      \n",
      "_________________________________________________________________\n",
      "dense_8 (Dense)              (None, 64)                4160      \n",
      "_________________________________________________________________\n",
      "dense_9 (Dense)              (None, 1)                 65        \n",
      "=================================================================\n",
      "Total params: 13,057\n",
      "Trainable params: 13,057\n",
      "Non-trainable params: 0\n",
      "_________________________________________________________________\n"
     ]
    }
   ],
   "source": [
    "# Instantiate model\n",
    "model = create_model([64, 64, 64, 64], input_dim=len(X_train[0]), \n",
    "                    loss='binary_crossentropy', optimizer='adam',\n",
    "                    metrics=['accuracy'])\n",
    "\n",
    "# Show basic information of the model\n",
    "model.summary()"
   ]
  },
  {
   "cell_type": "code",
   "execution_count": 31,
   "metadata": {},
   "outputs": [
    {
     "name": "stdout",
     "output_type": "stream",
     "text": [
      "Epoch 1/20\n",
      "93/93 [==============================] - 1s 4ms/step - loss: 0.5907 - accuracy: 0.7559 - val_loss: 0.5617 - val_accuracy: 0.7394\n",
      "Epoch 2/20\n",
      "93/93 [==============================] - 0s 2ms/step - loss: 0.5318 - accuracy: 0.7641 - val_loss: 0.5641 - val_accuracy: 0.7399\n",
      "Epoch 3/20\n",
      "93/93 [==============================] - 0s 3ms/step - loss: 0.5267 - accuracy: 0.7654 - val_loss: 0.5567 - val_accuracy: 0.7389\n",
      "Epoch 4/20\n",
      "93/93 [==============================] - 0s 3ms/step - loss: 0.5274 - accuracy: 0.7665 - val_loss: 0.5498 - val_accuracy: 0.7424\n",
      "Epoch 5/20\n",
      "93/93 [==============================] - 0s 2ms/step - loss: 0.5229 - accuracy: 0.7718 - val_loss: 0.5507 - val_accuracy: 0.7465\n",
      "Epoch 6/20\n",
      "93/93 [==============================] - 0s 2ms/step - loss: 0.5163 - accuracy: 0.7736 - val_loss: 0.5488 - val_accuracy: 0.7465\n",
      "Epoch 7/20\n",
      "93/93 [==============================] - 0s 3ms/step - loss: 0.5222 - accuracy: 0.7685 - val_loss: 0.5534 - val_accuracy: 0.7460\n",
      "Epoch 8/20\n",
      "93/93 [==============================] - 0s 3ms/step - loss: 0.5045 - accuracy: 0.7765 - val_loss: 0.5441 - val_accuracy: 0.7470\n",
      "Epoch 9/20\n",
      "93/93 [==============================] - 0s 2ms/step - loss: 0.5100 - accuracy: 0.7704 - val_loss: 0.5449 - val_accuracy: 0.7449\n",
      "Epoch 10/20\n",
      "93/93 [==============================] - 0s 4ms/step - loss: 0.5012 - accuracy: 0.7819 - val_loss: 0.5373 - val_accuracy: 0.7455\n",
      "Epoch 11/20\n",
      "93/93 [==============================] - 0s 2ms/step - loss: 0.5084 - accuracy: 0.7722 - val_loss: 0.5527 - val_accuracy: 0.7460\n",
      "Epoch 12/20\n",
      "93/93 [==============================] - 0s 3ms/step - loss: 0.5050 - accuracy: 0.7802 - val_loss: 0.5420 - val_accuracy: 0.7444\n",
      "Epoch 13/20\n",
      "93/93 [==============================] - 0s 3ms/step - loss: 0.5039 - accuracy: 0.7765 - val_loss: 0.5425 - val_accuracy: 0.7404\n",
      "Epoch 14/20\n",
      "93/93 [==============================] - 0s 2ms/step - loss: 0.4945 - accuracy: 0.7858 - val_loss: 0.5374 - val_accuracy: 0.7444\n",
      "Epoch 15/20\n",
      "93/93 [==============================] - 0s 2ms/step - loss: 0.4996 - accuracy: 0.7826 - val_loss: 0.5427 - val_accuracy: 0.7439\n",
      "Epoch 16/20\n",
      "93/93 [==============================] - 0s 4ms/step - loss: 0.5057 - accuracy: 0.7727 - val_loss: 0.5417 - val_accuracy: 0.7449\n",
      "Epoch 17/20\n",
      "93/93 [==============================] - 0s 2ms/step - loss: 0.4917 - accuracy: 0.7858 - val_loss: 0.5463 - val_accuracy: 0.7424\n",
      "Epoch 18/20\n",
      "93/93 [==============================] - 0s 2ms/step - loss: 0.5000 - accuracy: 0.7796 - val_loss: 0.5377 - val_accuracy: 0.7460\n",
      "Epoch 19/20\n",
      "93/93 [==============================] - 0s 2ms/step - loss: 0.4963 - accuracy: 0.7830 - val_loss: 0.5489 - val_accuracy: 0.7419\n",
      "Epoch 20/20\n",
      "93/93 [==============================] - 0s 3ms/step - loss: 0.5073 - accuracy: 0.7732 - val_loss: 0.5500 - val_accuracy: 0.7460\n"
     ]
    }
   ],
   "source": [
    "# Fit NN model\n",
    "history = model.fit(X_train, y_train, \n",
    "          validation_data=(X_val, y_val),\n",
    "          batch_size=64, epochs=20)"
   ]
  },
  {
   "cell_type": "code",
   "execution_count": 52,
   "metadata": {},
   "outputs": [
    {
     "data": {
      "image/png": "[encoded data removed]",
      "text/plain": [
       "<Figure size 1152x1008 with 2 Axes>"
      ]
     },
     "metadata": {
      "needs_background": "light"
     },
     "output_type": "display_data"
    }
   ],
   "source": [
    "visualize_training_history(history)"
   ]
  },
  {
   "cell_type": "code",
   "execution_count": 10,
   "metadata": {},
   "outputs": [
    {
     "name": "stdout",
     "output_type": "stream",
     "text": [
      "62/62 [==============================] - 0s 1ms/step - loss: 0.5181 - accuracy: 0.7682\n"
     ]
    },
    {
     "data": {
      "text/plain": [
       "[0.5180875658988953, 0.7681818008422852]"
      ]
     },
     "execution_count": 10,
     "metadata": {},
     "output_type": "execute_result"
    }
   ],
   "source": [
    "model.evaluate(X_test, y_test, batch_size=32)"
   ]
  },
  {
   "cell_type": "code",
   "execution_count": 29,
   "metadata": {},
   "outputs": [
    {
     "name": "stderr",
     "output_type": "stream",
     "text": [
      "<ipython-input-28-ce8f2e82f71a>:8: RuntimeWarning: invalid value encountered in long_scalars\n",
      "  precision = cf[1,1] / sum(cf[:,1])\n"
     ]
    },
    {
     "data": {
      "image/png": "[encoded data removed]",
      "text/plain": [
       "<Figure size 432x288 with 2 Axes>"
      ]
     },
     "metadata": {
      "needs_background": "light"
     },
     "output_type": "display_data"
    }
   ],
   "source": [
    "y_pred = (model.predict(X_train) > 7).astype('int64')\n",
    "y_pred\n",
    "\n",
    "y_train\n",
    "visualize_preds(y_train, y_pred)"
   ]
  },
  {
   "cell_type": "code",
   "execution_count": 17,
   "metadata": {},
   "outputs": [
    {
     "ename": "ExecutableNotFound",
     "evalue": "failed to execute ['dot', '-Kdot', '-Tpdf', '-O', 'network.gv'], make sure the Graphviz executables are on your systems' PATH",
     "output_type": "error",
     "traceback": [
      "\u001b[0;31m---------------------------------------------------------------------------\u001b[0m",
      "\u001b[0;31mFileNotFoundError\u001b[0m                         Traceback (most recent call last)",
      "\u001b[0;32m~/anaconda3/lib/python3.8/site-packages/graphviz/backend.py\u001b[0m in \u001b[0;36mrun\u001b[0;34m(cmd, input, capture_output, check, encoding, quiet, **kwargs)\u001b[0m\n\u001b[1;32m    163\u001b[0m     \u001b[0;32mtry\u001b[0m\u001b[0;34m:\u001b[0m\u001b[0;34m\u001b[0m\u001b[0;34m\u001b[0m\u001b[0m\n\u001b[0;32m--> 164\u001b[0;31m         \u001b[0mproc\u001b[0m \u001b[0;34m=\u001b[0m \u001b[0msubprocess\u001b[0m\u001b[0;34m.\u001b[0m\u001b[0mPopen\u001b[0m\u001b[0;34m(\u001b[0m\u001b[0mcmd\u001b[0m\u001b[0;34m,\u001b[0m \u001b[0mstartupinfo\u001b[0m\u001b[0;34m=\u001b[0m\u001b[0mget_startupinfo\u001b[0m\u001b[0;34m(\u001b[0m\u001b[0;34m)\u001b[0m\u001b[0;34m,\u001b[0m \u001b[0;34m**\u001b[0m\u001b[0mkwargs\u001b[0m\u001b[0;34m)\u001b[0m\u001b[0;34m\u001b[0m\u001b[0;34m\u001b[0m\u001b[0m\n\u001b[0m\u001b[1;32m    165\u001b[0m     \u001b[0;32mexcept\u001b[0m \u001b[0mOSError\u001b[0m \u001b[0;32mas\u001b[0m \u001b[0me\u001b[0m\u001b[0;34m:\u001b[0m\u001b[0;34m\u001b[0m\u001b[0;34m\u001b[0m\u001b[0m\n",
      "\u001b[0;32m~/anaconda3/lib/python3.8/subprocess.py\u001b[0m in \u001b[0;36m__init__\u001b[0;34m(self, args, bufsize, executable, stdin, stdout, stderr, preexec_fn, close_fds, shell, cwd, env, universal_newlines, startupinfo, creationflags, restore_signals, start_new_session, pass_fds, encoding, errors, text)\u001b[0m\n\u001b[1;32m    853\u001b[0m \u001b[0;34m\u001b[0m\u001b[0m\n\u001b[0;32m--> 854\u001b[0;31m             self._execute_child(args, executable, preexec_fn, close_fds,\n\u001b[0m\u001b[1;32m    855\u001b[0m                                 \u001b[0mpass_fds\u001b[0m\u001b[0;34m,\u001b[0m \u001b[0mcwd\u001b[0m\u001b[0;34m,\u001b[0m \u001b[0menv\u001b[0m\u001b[0;34m,\u001b[0m\u001b[0;34m\u001b[0m\u001b[0;34m\u001b[0m\u001b[0m\n",
      "\u001b[0;32m~/anaconda3/lib/python3.8/subprocess.py\u001b[0m in \u001b[0;36m_execute_child\u001b[0;34m(self, args, executable, preexec_fn, close_fds, pass_fds, cwd, env, startupinfo, creationflags, shell, p2cread, p2cwrite, c2pread, c2pwrite, errread, errwrite, restore_signals, start_new_session)\u001b[0m\n\u001b[1;32m   1701\u001b[0m                         \u001b[0merr_msg\u001b[0m \u001b[0;34m=\u001b[0m \u001b[0mos\u001b[0m\u001b[0;34m.\u001b[0m\u001b[0mstrerror\u001b[0m\u001b[0;34m(\u001b[0m\u001b[0merrno_num\u001b[0m\u001b[0;34m)\u001b[0m\u001b[0;34m\u001b[0m\u001b[0;34m\u001b[0m\u001b[0m\n\u001b[0;32m-> 1702\u001b[0;31m                     \u001b[0;32mraise\u001b[0m \u001b[0mchild_exception_type\u001b[0m\u001b[0;34m(\u001b[0m\u001b[0merrno_num\u001b[0m\u001b[0;34m,\u001b[0m \u001b[0merr_msg\u001b[0m\u001b[0;34m,\u001b[0m \u001b[0merr_filename\u001b[0m\u001b[0;34m)\u001b[0m\u001b[0;34m\u001b[0m\u001b[0;34m\u001b[0m\u001b[0m\n\u001b[0m\u001b[1;32m   1703\u001b[0m                 \u001b[0;32mraise\u001b[0m \u001b[0mchild_exception_type\u001b[0m\u001b[0;34m(\u001b[0m\u001b[0merr_msg\u001b[0m\u001b[0;34m)\u001b[0m\u001b[0;34m\u001b[0m\u001b[0;34m\u001b[0m\u001b[0m\n",
      "\u001b[0;31mFileNotFoundError\u001b[0m: [Errno 2] No such file or directory: 'dot'",
      "\nDuring handling of the above exception, another exception occurred:\n",
      "\u001b[0;31mExecutableNotFound\u001b[0m                        Traceback (most recent call last)",
      "\u001b[0;32m<ipython-input-17-6581f449768f>\u001b[0m in \u001b[0;36m<module>\u001b[0;34m\u001b[0m\n\u001b[0;32m----> 1\u001b[0;31m \u001b[0mann_viz\u001b[0m\u001b[0;34m(\u001b[0m\u001b[0mmodel\u001b[0m\u001b[0;34m,\u001b[0m \u001b[0mtitle\u001b[0m\u001b[0;34m=\u001b[0m\u001b[0;34m\"My first neural network\"\u001b[0m\u001b[0;34m)\u001b[0m\u001b[0;34m\u001b[0m\u001b[0;34m\u001b[0m\u001b[0m\n\u001b[0m",
      "\u001b[0;32m~/anaconda3/lib/python3.8/site-packages/ann_visualizer/visualize.py\u001b[0m in \u001b[0;36mann_viz\u001b[0;34m(model, view, filename, title)\u001b[0m\n\u001b[1;32m    204\u001b[0m         \u001b[0mg\u001b[0m\u001b[0;34m.\u001b[0m\u001b[0medge_attr\u001b[0m\u001b[0;34m.\u001b[0m\u001b[0mupdate\u001b[0m\u001b[0;34m(\u001b[0m\u001b[0marrowhead\u001b[0m\u001b[0;34m=\u001b[0m\u001b[0;34m\"none\"\u001b[0m\u001b[0;34m,\u001b[0m \u001b[0mcolor\u001b[0m\u001b[0;34m=\u001b[0m\u001b[0;34m\"#707070\"\u001b[0m\u001b[0;34m)\u001b[0m\u001b[0;34m;\u001b[0m\u001b[0;34m\u001b[0m\u001b[0;34m\u001b[0m\u001b[0m\n\u001b[1;32m    205\u001b[0m         \u001b[0;32mif\u001b[0m \u001b[0mview\u001b[0m \u001b[0;34m==\u001b[0m \u001b[0;32mTrue\u001b[0m\u001b[0;34m:\u001b[0m\u001b[0;34m\u001b[0m\u001b[0;34m\u001b[0m\u001b[0m\n\u001b[0;32m--> 206\u001b[0;31m             \u001b[0mg\u001b[0m\u001b[0;34m.\u001b[0m\u001b[0mview\u001b[0m\u001b[0;34m(\u001b[0m\u001b[0;34m)\u001b[0m\u001b[0;34m;\u001b[0m\u001b[0;34m\u001b[0m\u001b[0;34m\u001b[0m\u001b[0m\n\u001b[0m",
      "\u001b[0;32m~/anaconda3/lib/python3.8/site-packages/graphviz/files.py\u001b[0m in \u001b[0;36mview\u001b[0;34m(self, filename, directory, cleanup, quiet, quiet_view)\u001b[0m\n\u001b[1;32m    280\u001b[0m             \u001b[0mto\u001b[0m \u001b[0mretrieve\u001b[0m \u001b[0mthe\u001b[0m \u001b[0mapplication\u001b[0m\u001b[0;31m'\u001b[0m\u001b[0ms\u001b[0m \u001b[0mexit\u001b[0m \u001b[0mstatus\u001b[0m\u001b[0;34m.\u001b[0m\u001b[0;34m\u001b[0m\u001b[0;34m\u001b[0m\u001b[0m\n\u001b[1;32m    281\u001b[0m         \"\"\"\n\u001b[0;32m--> 282\u001b[0;31m         return self.render(filename=filename, directory=directory,\n\u001b[0m\u001b[1;32m    283\u001b[0m                            \u001b[0mview\u001b[0m\u001b[0;34m=\u001b[0m\u001b[0;32mTrue\u001b[0m\u001b[0;34m,\u001b[0m \u001b[0mcleanup\u001b[0m\u001b[0;34m=\u001b[0m\u001b[0mcleanup\u001b[0m\u001b[0;34m,\u001b[0m\u001b[0;34m\u001b[0m\u001b[0;34m\u001b[0m\u001b[0m\n\u001b[1;32m    284\u001b[0m                            quiet=quiet, quiet_view=quiet_view)\n",
      "\u001b[0;32m~/anaconda3/lib/python3.8/site-packages/graphviz/files.py\u001b[0m in \u001b[0;36mrender\u001b[0;34m(self, filename, directory, view, cleanup, format, renderer, formatter, quiet, quiet_view)\u001b[0m\n\u001b[1;32m    241\u001b[0m             \u001b[0mformat\u001b[0m \u001b[0;34m=\u001b[0m \u001b[0mself\u001b[0m\u001b[0;34m.\u001b[0m\u001b[0m_format\u001b[0m\u001b[0;34m\u001b[0m\u001b[0;34m\u001b[0m\u001b[0m\n\u001b[1;32m    242\u001b[0m \u001b[0;34m\u001b[0m\u001b[0m\n\u001b[0;32m--> 243\u001b[0;31m         rendered = backend.render(self._engine, format, filepath,\n\u001b[0m\u001b[1;32m    244\u001b[0m                                   \u001b[0mrenderer\u001b[0m\u001b[0;34m=\u001b[0m\u001b[0mrenderer\u001b[0m\u001b[0;34m,\u001b[0m \u001b[0mformatter\u001b[0m\u001b[0;34m=\u001b[0m\u001b[0mformatter\u001b[0m\u001b[0;34m,\u001b[0m\u001b[0;34m\u001b[0m\u001b[0;34m\u001b[0m\u001b[0m\n\u001b[1;32m    245\u001b[0m                                   quiet=quiet)\n",
      "\u001b[0;32m~/anaconda3/lib/python3.8/site-packages/graphviz/backend.py\u001b[0m in \u001b[0;36mrender\u001b[0;34m(***failed resolving arguments***)\u001b[0m\n\u001b[1;32m    221\u001b[0m         \u001b[0mcwd\u001b[0m \u001b[0;34m=\u001b[0m \u001b[0;32mNone\u001b[0m\u001b[0;34m\u001b[0m\u001b[0;34m\u001b[0m\u001b[0m\n\u001b[1;32m    222\u001b[0m \u001b[0;34m\u001b[0m\u001b[0m\n\u001b[0;32m--> 223\u001b[0;31m     \u001b[0mrun\u001b[0m\u001b[0;34m(\u001b[0m\u001b[0mcmd\u001b[0m\u001b[0;34m,\u001b[0m \u001b[0mcapture_output\u001b[0m\u001b[0;34m=\u001b[0m\u001b[0;32mTrue\u001b[0m\u001b[0;34m,\u001b[0m \u001b[0mcwd\u001b[0m\u001b[0;34m=\u001b[0m\u001b[0mcwd\u001b[0m\u001b[0;34m,\u001b[0m \u001b[0mcheck\u001b[0m\u001b[0;34m=\u001b[0m\u001b[0;32mTrue\u001b[0m\u001b[0;34m,\u001b[0m \u001b[0mquiet\u001b[0m\u001b[0;34m=\u001b[0m\u001b[0mquiet\u001b[0m\u001b[0;34m)\u001b[0m\u001b[0;34m\u001b[0m\u001b[0;34m\u001b[0m\u001b[0m\n\u001b[0m\u001b[1;32m    224\u001b[0m     \u001b[0;32mreturn\u001b[0m \u001b[0mrendered\u001b[0m\u001b[0;34m\u001b[0m\u001b[0;34m\u001b[0m\u001b[0m\n\u001b[1;32m    225\u001b[0m \u001b[0;34m\u001b[0m\u001b[0m\n",
      "\u001b[0;32m~/anaconda3/lib/python3.8/site-packages/graphviz/backend.py\u001b[0m in \u001b[0;36mrun\u001b[0;34m(cmd, input, capture_output, check, encoding, quiet, **kwargs)\u001b[0m\n\u001b[1;32m    165\u001b[0m     \u001b[0;32mexcept\u001b[0m \u001b[0mOSError\u001b[0m \u001b[0;32mas\u001b[0m \u001b[0me\u001b[0m\u001b[0;34m:\u001b[0m\u001b[0;34m\u001b[0m\u001b[0;34m\u001b[0m\u001b[0m\n\u001b[1;32m    166\u001b[0m         \u001b[0;32mif\u001b[0m \u001b[0me\u001b[0m\u001b[0;34m.\u001b[0m\u001b[0merrno\u001b[0m \u001b[0;34m==\u001b[0m \u001b[0merrno\u001b[0m\u001b[0;34m.\u001b[0m\u001b[0mENOENT\u001b[0m\u001b[0;34m:\u001b[0m\u001b[0;34m\u001b[0m\u001b[0;34m\u001b[0m\u001b[0m\n\u001b[0;32m--> 167\u001b[0;31m             \u001b[0;32mraise\u001b[0m \u001b[0mExecutableNotFound\u001b[0m\u001b[0;34m(\u001b[0m\u001b[0mcmd\u001b[0m\u001b[0;34m)\u001b[0m\u001b[0;34m\u001b[0m\u001b[0;34m\u001b[0m\u001b[0m\n\u001b[0m\u001b[1;32m    168\u001b[0m         \u001b[0;32melse\u001b[0m\u001b[0;34m:\u001b[0m\u001b[0;34m\u001b[0m\u001b[0;34m\u001b[0m\u001b[0m\n\u001b[1;32m    169\u001b[0m             \u001b[0;32mraise\u001b[0m\u001b[0;34m\u001b[0m\u001b[0;34m\u001b[0m\u001b[0m\n",
      "\u001b[0;31mExecutableNotFound\u001b[0m: failed to execute ['dot', '-Kdot', '-Tpdf', '-O', 'network.gv'], make sure the Graphviz executables are on your systems' PATH"
     ]
    }
   ],
   "source": [
    "ann_viz(model, title=\"My first neural network\")"
   ]
  },
  {
   "cell_type": "markdown",
   "metadata": {},
   "source": [
    "## 2. Second Model"
   ]
  },
  {
   "cell_type": "code",
   "execution_count": 7,
   "metadata": {},
   "outputs": [
    {
     "name": "stdout",
     "output_type": "stream",
     "text": [
      "Model: \"sequential\"\n",
      "_________________________________________________________________\n",
      "Layer (type)                 Output Shape              Param #   \n",
      "=================================================================\n",
      "dense (Dense)                (None, 64)                512       \n",
      "_________________________________________________________________\n",
      "dense_1 (Dense)              (None, 32)                2080      \n",
      "_________________________________________________________________\n",
      "dense_2 (Dense)              (None, 16)                528       \n",
      "_________________________________________________________________\n",
      "dense_3 (Dense)              (None, 8)                 136       \n",
      "_________________________________________________________________\n",
      "dense_4 (Dense)              (None, 4)                 36        \n",
      "_________________________________________________________________\n",
      "dense_5 (Dense)              (None, 1)                 5         \n",
      "=================================================================\n",
      "Total params: 3,297\n",
      "Trainable params: 3,297\n",
      "Non-trainable params: 0\n",
      "_________________________________________________________________\n"
     ]
    }
   ],
   "source": [
    "# Instantiate model\n",
    "model = create_model([64, 32, 16, 8, 4], input_dim=len(X_train[0]), \n",
    "                    loss='binary_crossentropy', optimizer='adam',\n",
    "                    metrics=['accuracy'])\n",
    "\n",
    "# Show basic information of the model\n",
    "model.summary()"
   ]
  },
  {
   "cell_type": "code",
   "execution_count": 8,
   "metadata": {},
   "outputs": [
    {
     "name": "stdout",
     "output_type": "stream",
     "text": [
      "Epoch 1/20\n",
      "93/93 [==============================] - 1s 6ms/step - loss: 0.5921 - accuracy: 0.7751 - val_loss: 0.5443 - val_accuracy: 0.7636\n",
      "Epoch 2/20\n",
      "93/93 [==============================] - 0s 2ms/step - loss: 0.5257 - accuracy: 0.7715 - val_loss: 0.5291 - val_accuracy: 0.7636\n",
      "Epoch 3/20\n",
      "93/93 [==============================] - 0s 2ms/step - loss: 0.5148 - accuracy: 0.7688 - val_loss: 0.5223 - val_accuracy: 0.7636\n",
      "Epoch 4/20\n",
      "93/93 [==============================] - 0s 2ms/step - loss: 0.5198 - accuracy: 0.7633 - val_loss: 0.5224 - val_accuracy: 0.7636\n",
      "Epoch 5/20\n",
      "93/93 [==============================] - 0s 2ms/step - loss: 0.5042 - accuracy: 0.7719 - val_loss: 0.5162 - val_accuracy: 0.7636\n",
      "Epoch 6/20\n",
      "93/93 [==============================] - 0s 2ms/step - loss: 0.4976 - accuracy: 0.7792 - val_loss: 0.5159 - val_accuracy: 0.7636\n",
      "Epoch 7/20\n",
      "93/93 [==============================] - 0s 2ms/step - loss: 0.5061 - accuracy: 0.7721 - val_loss: 0.5156 - val_accuracy: 0.7636\n",
      "Epoch 8/20\n",
      "93/93 [==============================] - 0s 2ms/step - loss: 0.4958 - accuracy: 0.7815 - val_loss: 0.5137 - val_accuracy: 0.7636\n",
      "Epoch 9/20\n",
      "93/93 [==============================] - 0s 2ms/step - loss: 0.5082 - accuracy: 0.7644 - val_loss: 0.5153 - val_accuracy: 0.7636\n",
      "Epoch 10/20\n",
      "93/93 [==============================] - 0s 2ms/step - loss: 0.5042 - accuracy: 0.7658 - val_loss: 0.5141 - val_accuracy: 0.7636\n",
      "Epoch 11/20\n",
      "93/93 [==============================] - 0s 2ms/step - loss: 0.4891 - accuracy: 0.7826 - val_loss: 0.5156 - val_accuracy: 0.7636\n",
      "Epoch 12/20\n",
      "93/93 [==============================] - 0s 3ms/step - loss: 0.4949 - accuracy: 0.7742 - val_loss: 0.5182 - val_accuracy: 0.7636\n",
      "Epoch 13/20\n",
      "93/93 [==============================] - 0s 2ms/step - loss: 0.5089 - accuracy: 0.7667 - val_loss: 0.5134 - val_accuracy: 0.7636\n",
      "Epoch 14/20\n",
      "93/93 [==============================] - 0s 2ms/step - loss: 0.5015 - accuracy: 0.7714 - val_loss: 0.5151 - val_accuracy: 0.7636\n",
      "Epoch 15/20\n",
      "93/93 [==============================] - 0s 2ms/step - loss: 0.4984 - accuracy: 0.7705 - val_loss: 0.5152 - val_accuracy: 0.7636\n",
      "Epoch 16/20\n",
      "93/93 [==============================] - 0s 3ms/step - loss: 0.5107 - accuracy: 0.7677 - val_loss: 0.5164 - val_accuracy: 0.7636\n",
      "Epoch 17/20\n",
      "93/93 [==============================] - 0s 2ms/step - loss: 0.5026 - accuracy: 0.7620 - val_loss: 0.5162 - val_accuracy: 0.7636\n",
      "Epoch 18/20\n",
      "93/93 [==============================] - 0s 3ms/step - loss: 0.4967 - accuracy: 0.7684 - val_loss: 0.5165 - val_accuracy: 0.7692\n",
      "Epoch 19/20\n",
      "93/93 [==============================] - 0s 3ms/step - loss: 0.5007 - accuracy: 0.7716 - val_loss: 0.5154 - val_accuracy: 0.7652\n",
      "Epoch 20/20\n",
      "93/93 [==============================] - 0s 2ms/step - loss: 0.5062 - accuracy: 0.7680 - val_loss: 0.5180 - val_accuracy: 0.7682\n"
     ]
    },
    {
     "data": {
      "text/plain": [
       "<tensorflow.python.keras.callbacks.History at 0x7f4558489e20>"
      ]
     },
     "execution_count": 8,
     "metadata": {},
     "output_type": "execute_result"
    }
   ],
   "source": [
    "# Fit NN model\n",
    "model.fit(X_train, y_train, \n",
    "          validation_data=(X_val, y_val),\n",
    "          batch_size=64, epochs=20)"
   ]
  },
  {
   "cell_type": "code",
   "execution_count": 9,
   "metadata": {},
   "outputs": [
    {
     "name": "stdout",
     "output_type": "stream",
     "text": [
      "62/62 [==============================] - 0s 1ms/step - loss: 0.5524 - accuracy: 0.7520\n"
     ]
    },
    {
     "data": {
      "text/plain": [
       "[0.5524483323097229, 0.7520201802253723]"
      ]
     },
     "execution_count": 9,
     "metadata": {},
     "output_type": "execute_result"
    }
   ],
   "source": [
    "model.evaluate(X_test, y_test, batch_size=32)"
   ]
  },
  {
   "cell_type": "markdown",
   "metadata": {},
   "source": [
    "## 3. Third Model"
   ]
  },
  {
   "cell_type": "code",
   "execution_count": 12,
   "metadata": {},
   "outputs": [
    {
     "name": "stdout",
     "output_type": "stream",
     "text": [
      "Model: \"sequential_2\"\n",
      "_________________________________________________________________\n",
      "Layer (type)                 Output Shape              Param #   \n",
      "=================================================================\n",
      "dense_8 (Dense)              (None, 64)                512       \n",
      "_________________________________________________________________\n",
      "dense_9 (Dense)              (None, 1)                 65        \n",
      "=================================================================\n",
      "Total params: 577\n",
      "Trainable params: 577\n",
      "Non-trainable params: 0\n",
      "_________________________________________________________________\n"
     ]
    }
   ],
   "source": [
    "# Instantiate model\n",
    "model = create_model([64], input_dim=len(X_train[0]), \n",
    "                    loss='binary_crossentropy', optimizer='adam',\n",
    "                    metrics=['accuracy'])\n",
    "\n",
    "# Show basic information of the model\n",
    "model.summary()"
   ]
  },
  {
   "cell_type": "code",
   "execution_count": 13,
   "metadata": {},
   "outputs": [
    {
     "name": "stdout",
     "output_type": "stream",
     "text": [
      "Epoch 1/20\n",
      "93/93 [==============================] - 1s 3ms/step - loss: 0.6161 - accuracy: 0.6854 - val_loss: 0.5541 - val_accuracy: 0.7626\n",
      "Epoch 2/20\n",
      "93/93 [==============================] - 0s 2ms/step - loss: 0.5405 - accuracy: 0.7722 - val_loss: 0.5389 - val_accuracy: 0.7631\n",
      "Epoch 3/20\n",
      "93/93 [==============================] - 0s 2ms/step - loss: 0.5168 - accuracy: 0.7732 - val_loss: 0.5318 - val_accuracy: 0.7626\n",
      "Epoch 4/20\n",
      "93/93 [==============================] - 0s 2ms/step - loss: 0.5171 - accuracy: 0.7693 - val_loss: 0.5274 - val_accuracy: 0.7631\n",
      "Epoch 5/20\n",
      "93/93 [==============================] - 0s 2ms/step - loss: 0.5216 - accuracy: 0.7652 - val_loss: 0.5252 - val_accuracy: 0.7636\n",
      "Epoch 6/20\n",
      "93/93 [==============================] - 0s 2ms/step - loss: 0.5275 - accuracy: 0.7586 - val_loss: 0.5247 - val_accuracy: 0.7636\n",
      "Epoch 7/20\n",
      "93/93 [==============================] - 0s 2ms/step - loss: 0.5081 - accuracy: 0.7720 - val_loss: 0.5218 - val_accuracy: 0.7667\n",
      "Epoch 8/20\n",
      "93/93 [==============================] - 0s 2ms/step - loss: 0.5169 - accuracy: 0.7622 - val_loss: 0.5213 - val_accuracy: 0.7672\n",
      "Epoch 9/20\n",
      "93/93 [==============================] - 0s 2ms/step - loss: 0.5178 - accuracy: 0.7674 - val_loss: 0.5203 - val_accuracy: 0.7667\n",
      "Epoch 10/20\n",
      "93/93 [==============================] - 0s 2ms/step - loss: 0.5132 - accuracy: 0.7675 - val_loss: 0.5190 - val_accuracy: 0.7652\n",
      "Epoch 11/20\n",
      "93/93 [==============================] - 0s 2ms/step - loss: 0.5128 - accuracy: 0.7711 - val_loss: 0.5185 - val_accuracy: 0.7687\n",
      "Epoch 12/20\n",
      "93/93 [==============================] - 0s 2ms/step - loss: 0.5017 - accuracy: 0.7744 - val_loss: 0.5188 - val_accuracy: 0.7636\n",
      "Epoch 13/20\n",
      "93/93 [==============================] - 0s 2ms/step - loss: 0.5012 - accuracy: 0.7795 - val_loss: 0.5178 - val_accuracy: 0.7662\n",
      "Epoch 14/20\n",
      "93/93 [==============================] - 0s 2ms/step - loss: 0.5097 - accuracy: 0.7746 - val_loss: 0.5174 - val_accuracy: 0.7687\n",
      "Epoch 15/20\n",
      "93/93 [==============================] - 0s 2ms/step - loss: 0.5062 - accuracy: 0.7698 - val_loss: 0.5178 - val_accuracy: 0.7692\n",
      "Epoch 16/20\n",
      "93/93 [==============================] - 0s 2ms/step - loss: 0.5084 - accuracy: 0.7719 - val_loss: 0.5179 - val_accuracy: 0.7707\n",
      "Epoch 17/20\n",
      "93/93 [==============================] - 0s 2ms/step - loss: 0.5135 - accuracy: 0.7704 - val_loss: 0.5183 - val_accuracy: 0.7672\n",
      "Epoch 18/20\n",
      "93/93 [==============================] - 0s 2ms/step - loss: 0.5082 - accuracy: 0.7738 - val_loss: 0.5154 - val_accuracy: 0.7732\n",
      "Epoch 19/20\n",
      "93/93 [==============================] - 0s 2ms/step - loss: 0.5044 - accuracy: 0.7798 - val_loss: 0.5162 - val_accuracy: 0.7692\n",
      "Epoch 20/20\n",
      "93/93 [==============================] - 0s 2ms/step - loss: 0.5149 - accuracy: 0.7703 - val_loss: 0.5156 - val_accuracy: 0.7702\n"
     ]
    },
    {
     "data": {
      "text/plain": [
       "<tensorflow.python.keras.callbacks.History at 0x7f4550136bb0>"
      ]
     },
     "execution_count": 13,
     "metadata": {},
     "output_type": "execute_result"
    }
   ],
   "source": [
    "# Fit NN model\n",
    "model.fit(X_train, y_train, \n",
    "          validation_data=(X_val, y_val),\n",
    "          batch_size=64, epochs=20)"
   ]
  },
  {
   "cell_type": "code",
   "execution_count": 14,
   "metadata": {},
   "outputs": [
    {
     "name": "stdout",
     "output_type": "stream",
     "text": [
      "62/62 [==============================] - 0s 922us/step - loss: 0.5439 - accuracy: 0.7525\n"
     ]
    },
    {
     "data": {
      "text/plain": [
       "[0.5439037084579468, 0.752525269985199]"
      ]
     },
     "execution_count": 14,
     "metadata": {},
     "output_type": "execute_result"
    }
   ],
   "source": [
    "model.evaluate(X_test, y_test, batch_size=32)"
   ]
  }
 ],
 "metadata": {
  "kernelspec": {
   "display_name": "Python 3",
   "language": "python",
   "name": "python3"
  },
  "language_info": {
   "codemirror_mode": {
    "name": "ipython",
    "version": 3
   },
   "file_extension": ".py",
   "mimetype": "text/x-python",
   "name": "python",
   "nbconvert_exporter": "python",
   "pygments_lexer": "ipython3",
   "version": "3.8.5"
  }
 },
 "nbformat": 4,
 "nbformat_minor": 4
}
