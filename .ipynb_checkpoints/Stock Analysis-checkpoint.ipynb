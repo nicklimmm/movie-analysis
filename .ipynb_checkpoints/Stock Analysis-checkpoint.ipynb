{
 "cells": [
  {
   "cell_type": "code",
   "execution_count": 1,
   "metadata": {},
   "outputs": [],
   "source": [
    "# Import necessary libraries\n",
    "\n",
    "import datetime\n",
    "import json\n",
    "import matplotlib.pyplot as plt\n",
    "import numpy as np\n",
    "import pandas as pd\n",
    "import requests\n",
    "import seaborn as sns\n",
    "\n",
    "%matplotlib inline"
   ]
  },
  {
   "cell_type": "markdown",
   "metadata": {},
   "source": [
    "# Useful Notebook References\n",
    "1. [Stock Market Analysis + Prediction using LSTM](https://www.kaggle.com/faressayah/stock-market-analysis-prediction-using-lstm)"
   ]
  },
  {
   "cell_type": "markdown",
   "metadata": {},
   "source": [
    "# Useful Resources\n",
    "1. [Indicators to assess stocks](https://www.getsmarteraboutmoney.ca/invest/investment-products/stocks/6-indicators-used-to-assess-stocks/) (Term definitions e.g. PE Rate, PEG Rate, etc.)\n",
    "2. [Visualizing Free Stock Data for Algorithmic Trading with Python and Matplotlib](https://medium.com/wealthy-bytes/visualizing-free-stock-data-for-algorithmic-trading-with-python-and-matplotlib-dca1abbd286c)"
   ]
  },
  {
   "cell_type": "markdown",
   "metadata": {},
   "source": [
    "# Several Questions\n",
    "1. Are there any relationships between companies in the same sector?\n",
    "    - Automotive (Tesla, Nikola Corp., Ford, Tata, etc.)\n",
    "    - Ride-hailing or food delivery (Grab, Uber, Gojek, Didi, Lyft, etc.)\n",
    "    - Technology (Facebook, Amazon, Apple, Google, etc.)\n",
    "2. How does a company affect its suppliers and vice-versa?\n",
    "3. Can we predict stock value using relevant information and from other companies?\n",
    "4. How does significant events/incidents (New Year, COVID-19, Brexit, etc.) affect the stock prices?\n",
    "5. Which variable is better to predict stock prices in the future? EMA, SMA"
   ]
  },
  {
   "cell_type": "markdown",
   "metadata": {},
   "source": [
    "# [Forces That Move Stock Prices](https://www.investopedia.com/articles/basics/04/100804.asp)\n",
    "\n",
    "Fundamental Factors\n",
    "1. An earnings base, such as earnings per share (EPS)\n",
    "2. A valuation multiple, such as a P/E ratio\n",
    "\n",
    "Technical Factors\n",
    "1. Inflation\n",
    "2. Economic Strength of Market and Peers\n",
    "3. Substitutes\n",
    "4. Incidental Transactions\n",
    "5. Demographics\n",
    "6. Trends\n",
    "7. Liquidity"
   ]
  },
  {
   "cell_type": "code",
   "execution_count": 2,
   "metadata": {},
   "outputs": [],
   "source": [
    "API_KEY = 'Q9LHK50C644JR6L9'"
   ]
  },
  {
   "cell_type": "code",
   "execution_count": 48,
   "metadata": {},
   "outputs": [],
   "source": [
    "def get_daily_adjusted(equity):\n",
    "    url = f'https://www.alphavantage.co/query?function=TIME_SERIES_DAILY_ADJUSTED&symbol={equity}&outputsize=full&apikey={API_KEY}&datatype=json'\n",
    "    resp = requests.get(url)\n",
    "    json_data = resp.json()['Time Series (Daily)']\n",
    "    \n",
    "    data = pd.DataFrame(json_data).transpose()\n",
    "    data.columns = ['Open', 'High', 'Low', 'Close', 'Adjusted Close', 'Volume', 'Dividend Amount', 'Split Coefficient']\n",
    "    data.index = pd.to_datetime(data.index)\n",
    "    data.index.name = 'Date'\n",
    "    \n",
    "    convert_dict = {'Open': 'float64', 'High': 'float64', 'Low': 'float64', 'Close': 'float64', 'Adjusted Close': 'float64', 'Volume': 'int64', 'Dividend Amount': 'float64', 'Split Coefficient': 'float64'}\n",
    "    data = data.sort_index().astype(convert_dict)\n",
    "    \n",
    "    return data\n",
    "\n",
    "\n",
    "def get_sma(equity):\n",
    "    interval = 'daily'\n",
    "    time_period = '14'\n",
    "    series_type = 'close'\n",
    "    url = f'https://www.alphavantage.co/query?function=SMA&symbol={equity}&interval={interval}&time_period={time_period}&series_type={series_type}&apikey={API_KEY}&datatype=json'\n",
    "\n",
    "    resp = requests.get(url)\n",
    "    json_data = resp.json()['Technical Analysis: SMA']\n",
    "    \n",
    "    data = pd.DataFrame(json_data).transpose()    \n",
    "    data.index = pd.to_datetime(data.index)\n",
    "    data.index.name = 'Date'\n",
    "    \n",
    "    convert_dict = {'SMA': 'float64'}\n",
    "    data = data.sort_index().astype(convert_dict)\n",
    "    data = data.sort_index()\n",
    "    \n",
    "    return data\n",
    "\n",
    "\n",
    "def get_ema(equity):\n",
    "    interval = 'daily'\n",
    "    time_period = '14'\n",
    "    series_type = 'close'\n",
    "    url = f'https://www.alphavantage.co/query?function=EMA&symbol={equity}&interval={interval}&time_period={time_period}&series_type={series_type}&apikey={API_KEY}&datatype=json'\n",
    "\n",
    "    resp = requests.get(url)\n",
    "    json_data = resp.json()['Technical Analysis: EMA']\n",
    "    \n",
    "    data = pd.DataFrame(json_data).transpose()    \n",
    "    data.index = pd.to_datetime(data.index)\n",
    "    data.index.name = 'Date'\n",
    "    \n",
    "    convert_dict = {'EMA': 'float64'}\n",
    "    data = data.sort_index().astype(convert_dict)\n",
    "    data = data.sort_index()\n",
    "    \n",
    "    return data\n",
    "\n",
    "\n",
    "def create_df(equity):\n",
    "    daily_adjusted_data = get_daily_adjusted(equity)\n",
    "    sma_data = get_sma(equity)\n",
    "    ema_data = get_ema(equity)\n",
    "    \n",
    "    data = pd.concat([daily_adjusted_data, sma_data, ema_data], axis=1).dropna()    \n",
    "    data.index = pd.to_datetime(data.index)\n",
    "    data.index.name = 'Date'\n",
    "    \n",
    "    return data"
   ]
  },
  {
   "cell_type": "code",
   "execution_count": 49,
   "metadata": {},
   "outputs": [],
   "source": [
    "def create_csv(equity):\n",
    "    path = f'equities_csv/{equity}.csv'\n",
    "    df = create_df(equity)\n",
    "    df.to_csv(path)\n",
    "    \n",
    "def load_csv(equity):\n",
    "    path = f'equities_csv/{equity}.csv'\n",
    "    df = pd.read_csv(path, index_col = 0)\n",
    "    \n",
    "    return df"
   ]
  },
  {
   "cell_type": "code",
   "execution_count": 50,
   "metadata": {},
   "outputs": [],
   "source": [
    "df = create_df('TSLA')\n",
    "# get_ema('TSLA')"
   ]
  },
  {
   "cell_type": "code",
   "execution_count": 55,
   "metadata": {},
   "outputs": [
    {
     "data": {
      "text/html": [
       "<div>\n",
       "<style scoped>\n",
       "    .dataframe tbody tr th:only-of-type {\n",
       "        vertical-align: middle;\n",
       "    }\n",
       "\n",
       "    .dataframe tbody tr th {\n",
       "        vertical-align: top;\n",
       "    }\n",
       "\n",
       "    .dataframe thead th {\n",
       "        text-align: right;\n",
       "    }\n",
       "</style>\n",
       "<table border=\"1\" class=\"dataframe\">\n",
       "  <thead>\n",
       "    <tr style=\"text-align: right;\">\n",
       "      <th></th>\n",
       "      <th>Open</th>\n",
       "      <th>High</th>\n",
       "      <th>Low</th>\n",
       "      <th>Close</th>\n",
       "      <th>Adjusted Close</th>\n",
       "      <th>Volume</th>\n",
       "      <th>Dividend Amount</th>\n",
       "      <th>Split Coefficient</th>\n",
       "      <th>SMA</th>\n",
       "      <th>EMA</th>\n",
       "    </tr>\n",
       "    <tr>\n",
       "      <th>Date</th>\n",
       "      <th></th>\n",
       "      <th></th>\n",
       "      <th></th>\n",
       "      <th></th>\n",
       "      <th></th>\n",
       "      <th></th>\n",
       "      <th></th>\n",
       "      <th></th>\n",
       "      <th></th>\n",
       "      <th></th>\n",
       "    </tr>\n",
       "  </thead>\n",
       "  <tbody>\n",
       "    <tr>\n",
       "      <th>2020-01-02</th>\n",
       "      <td>424.50</td>\n",
       "      <td>430.7000</td>\n",
       "      <td>421.71</td>\n",
       "      <td>430.26</td>\n",
       "      <td>86.052</td>\n",
       "      <td>9532100</td>\n",
       "      <td>0.0</td>\n",
       "      <td>1.0</td>\n",
       "      <td>80.7203</td>\n",
       "      <td>80.8659</td>\n",
       "    </tr>\n",
       "    <tr>\n",
       "      <th>2020-01-03</th>\n",
       "      <td>440.50</td>\n",
       "      <td>454.0000</td>\n",
       "      <td>436.92</td>\n",
       "      <td>443.01</td>\n",
       "      <td>88.602</td>\n",
       "      <td>17778500</td>\n",
       "      <td>0.0</td>\n",
       "      <td>1.0</td>\n",
       "      <td>81.9107</td>\n",
       "      <td>81.8974</td>\n",
       "    </tr>\n",
       "    <tr>\n",
       "      <th>2020-01-06</th>\n",
       "      <td>440.47</td>\n",
       "      <td>451.5600</td>\n",
       "      <td>440.00</td>\n",
       "      <td>451.54</td>\n",
       "      <td>90.308</td>\n",
       "      <td>10133000</td>\n",
       "      <td>0.0</td>\n",
       "      <td>1.0</td>\n",
       "      <td>83.2414</td>\n",
       "      <td>83.0188</td>\n",
       "    </tr>\n",
       "    <tr>\n",
       "      <th>2020-01-07</th>\n",
       "      <td>461.40</td>\n",
       "      <td>471.6300</td>\n",
       "      <td>453.36</td>\n",
       "      <td>469.06</td>\n",
       "      <td>93.812</td>\n",
       "      <td>17882100</td>\n",
       "      <td>0.0</td>\n",
       "      <td>1.0</td>\n",
       "      <td>84.4923</td>\n",
       "      <td>84.4579</td>\n",
       "    </tr>\n",
       "    <tr>\n",
       "      <th>2020-01-08</th>\n",
       "      <td>473.70</td>\n",
       "      <td>498.4900</td>\n",
       "      <td>468.23</td>\n",
       "      <td>492.14</td>\n",
       "      <td>98.428</td>\n",
       "      <td>31144300</td>\n",
       "      <td>0.0</td>\n",
       "      <td>1.0</td>\n",
       "      <td>86.1087</td>\n",
       "      <td>86.3206</td>\n",
       "    </tr>\n",
       "    <tr>\n",
       "      <th>...</th>\n",
       "      <td>...</td>\n",
       "      <td>...</td>\n",
       "      <td>...</td>\n",
       "      <td>...</td>\n",
       "      <td>...</td>\n",
       "      <td>...</td>\n",
       "      <td>...</td>\n",
       "      <td>...</td>\n",
       "      <td>...</td>\n",
       "      <td>...</td>\n",
       "    </tr>\n",
       "    <tr>\n",
       "      <th>2021-02-23</th>\n",
       "      <td>662.13</td>\n",
       "      <td>713.6099</td>\n",
       "      <td>619.00</td>\n",
       "      <td>698.84</td>\n",
       "      <td>698.840</td>\n",
       "      <td>66606882</td>\n",
       "      <td>0.0</td>\n",
       "      <td>1.0</td>\n",
       "      <td>805.6271</td>\n",
       "      <td>787.3775</td>\n",
       "    </tr>\n",
       "    <tr>\n",
       "      <th>2021-02-24</th>\n",
       "      <td>711.85</td>\n",
       "      <td>745.0000</td>\n",
       "      <td>694.17</td>\n",
       "      <td>742.02</td>\n",
       "      <td>742.020</td>\n",
       "      <td>36766950</td>\n",
       "      <td>0.0</td>\n",
       "      <td>1.0</td>\n",
       "      <td>797.5793</td>\n",
       "      <td>781.3298</td>\n",
       "    </tr>\n",
       "    <tr>\n",
       "      <th>2021-02-25</th>\n",
       "      <td>726.15</td>\n",
       "      <td>737.2066</td>\n",
       "      <td>670.58</td>\n",
       "      <td>682.22</td>\n",
       "      <td>682.220</td>\n",
       "      <td>38126722</td>\n",
       "      <td>0.0</td>\n",
       "      <td>1.0</td>\n",
       "      <td>785.5957</td>\n",
       "      <td>768.1152</td>\n",
       "    </tr>\n",
       "    <tr>\n",
       "      <th>2021-02-26</th>\n",
       "      <td>700.00</td>\n",
       "      <td>706.7000</td>\n",
       "      <td>659.51</td>\n",
       "      <td>675.50</td>\n",
       "      <td>675.500</td>\n",
       "      <td>39767316</td>\n",
       "      <td>0.0</td>\n",
       "      <td>1.0</td>\n",
       "      <td>772.9721</td>\n",
       "      <td>755.7665</td>\n",
       "    </tr>\n",
       "    <tr>\n",
       "      <th>2021-03-01</th>\n",
       "      <td>690.11</td>\n",
       "      <td>872.0000</td>\n",
       "      <td>685.05</td>\n",
       "      <td>718.43</td>\n",
       "      <td>718.430</td>\n",
       "      <td>27136239</td>\n",
       "      <td>0.0</td>\n",
       "      <td>1.0</td>\n",
       "      <td>762.6157</td>\n",
       "      <td>750.7883</td>\n",
       "    </tr>\n",
       "  </tbody>\n",
       "</table>\n",
       "<p>292 rows × 10 columns</p>\n",
       "</div>"
      ],
      "text/plain": [
       "              Open      High     Low   Close  Adjusted Close    Volume  \\\n",
       "Date                                                                     \n",
       "2020-01-02  424.50  430.7000  421.71  430.26          86.052   9532100   \n",
       "2020-01-03  440.50  454.0000  436.92  443.01          88.602  17778500   \n",
       "2020-01-06  440.47  451.5600  440.00  451.54          90.308  10133000   \n",
       "2020-01-07  461.40  471.6300  453.36  469.06          93.812  17882100   \n",
       "2020-01-08  473.70  498.4900  468.23  492.14          98.428  31144300   \n",
       "...            ...       ...     ...     ...             ...       ...   \n",
       "2021-02-23  662.13  713.6099  619.00  698.84         698.840  66606882   \n",
       "2021-02-24  711.85  745.0000  694.17  742.02         742.020  36766950   \n",
       "2021-02-25  726.15  737.2066  670.58  682.22         682.220  38126722   \n",
       "2021-02-26  700.00  706.7000  659.51  675.50         675.500  39767316   \n",
       "2021-03-01  690.11  872.0000  685.05  718.43         718.430  27136239   \n",
       "\n",
       "            Dividend Amount  Split Coefficient       SMA       EMA  \n",
       "Date                                                                \n",
       "2020-01-02              0.0                1.0   80.7203   80.8659  \n",
       "2020-01-03              0.0                1.0   81.9107   81.8974  \n",
       "2020-01-06              0.0                1.0   83.2414   83.0188  \n",
       "2020-01-07              0.0                1.0   84.4923   84.4579  \n",
       "2020-01-08              0.0                1.0   86.1087   86.3206  \n",
       "...                     ...                ...       ...       ...  \n",
       "2021-02-23              0.0                1.0  805.6271  787.3775  \n",
       "2021-02-24              0.0                1.0  797.5793  781.3298  \n",
       "2021-02-25              0.0                1.0  785.5957  768.1152  \n",
       "2021-02-26              0.0                1.0  772.9721  755.7665  \n",
       "2021-03-01              0.0                1.0  762.6157  750.7883  \n",
       "\n",
       "[292 rows x 10 columns]"
      ]
     },
     "execution_count": 55,
     "metadata": {},
     "output_type": "execute_result"
    }
   ],
   "source": [
    "df = df[df.index >= np.datetime64('2020-01-01')]\n",
    "df"
   ]
  },
  {
   "cell_type": "code",
   "execution_count": 56,
   "metadata": {},
   "outputs": [
    {
     "data": {
      "text/plain": [
       "<AxesSubplot:xlabel='Date'>"
      ]
     },
     "execution_count": 56,
     "metadata": {},
     "output_type": "execute_result"
    },
    {
     "data": {
      "image/png": "[encoded data removed]",
      "text/plain": [
       "<Figure size 1296x432 with 1 Axes>"
      ]
     },
     "metadata": {
      "needs_background": "light"
     },
     "output_type": "display_data"
    }
   ],
   "source": [
    "df[['Adjusted Close', 'SMA', 'EMA']].plot(figsize=(18, 6))"
   ]
  },
  {
   "cell_type": "code",
   "execution_count": 29,
   "metadata": {},
   "outputs": [],
   "source": [
    "create_csv('TSLA')"
   ]
  },
  {
   "cell_type": "code",
   "execution_count": 30,
   "metadata": {},
   "outputs": [],
   "source": [
    "df = load_csv(\"TSLA\")"
   ]
  },
  {
   "cell_type": "code",
   "execution_count": 32,
   "metadata": {},
   "outputs": [
    {
     "data": {
      "text/plain": [
       "Index(['2010-09-08', '2010-09-09', '2010-09-10', '2010-09-13', '2010-09-14',\n",
       "       '2010-09-15', '2010-09-16', '2010-09-17', '2010-09-20', '2010-09-21',\n",
       "       ...\n",
       "       '2021-02-16', '2021-02-17', '2021-02-18', '2021-02-19', '2021-02-22',\n",
       "       '2021-02-23', '2021-02-24', '2021-02-25', '2021-02-26', '2021-03-01'],\n",
       "      dtype='object', name='Date', length=2637)"
      ]
     },
     "execution_count": 32,
     "metadata": {},
     "output_type": "execute_result"
    },
    {
     "data": {
      "text/plain": [
       "<Figure size 1800x720 with 0 Axes>"
      ]
     },
     "metadata": {},
     "output_type": "display_data"
    }
   ],
   "source": [
    "plt.figure(figsize=(25, 10))\n",
    "\n",
    "df.index\n",
    "# df[df[['Close', 'EMA', 'SMA']]].plot(figsize=(18, 6))"
   ]
  },
  {
   "cell_type": "code",
   "execution_count": 13,
   "metadata": {},
   "outputs": [
    {
     "data": {
      "text/plain": [
       "[]"
      ]
     },
     "execution_count": 13,
     "metadata": {},
     "output_type": "execute_result"
    },
    {
     "data": {
      "image/png": "[encoded data removed]",
      "text/plain": [
       "<Figure size 432x288 with 1 Axes>"
      ]
     },
     "metadata": {
      "needs_background": "light"
     },
     "output_type": "display_data"
    }
   ],
   "source": [
    "plt.plot(data=df[['Close', 'EMA', 'SMA']])"
   ]
  },
  {
   "cell_type": "code",
   "execution_count": 7,
   "metadata": {},
   "outputs": [],
   "source": [
    "def create_json(equity: str):\n",
    "    '''\n",
    "    Takes equity symbol (e.g. 'AMZN' or 'AAPL') as input and \n",
    "    creates json files in 'equities_json' folder that \n",
    "    contains information about the equities.\n",
    "    \n",
    "    We save the data into json locally to prevent long waiting times\n",
    "    during fetching from the API.\n",
    "    \n",
    "    You may want to call this function again to update the data or \n",
    "    changing the type of series.\n",
    "    '''\n",
    "    \n",
    "    # Change this when looking at different series\n",
    "    function = 'TIME_SERIES_DAILY_ADJUSTED'\n",
    "    datatype = 'json'\n",
    "    \n",
    "    url = f'https://www.alphavantage.co/query?function={function}&symbol={equity}&outputsize=full&apikey={API_KEY}&datatype={datatype}'\n",
    "    resp = requests.get(url)\n",
    "\n",
    "    path = f'equities_json/{equity}.json'\n",
    "    with open(path, 'w') as output_file:\n",
    "        json.dump(resp.json(), output_file)\n",
    "        output_file.close()"
   ]
  },
  {
   "cell_type": "code",
   "execution_count": null,
   "metadata": {},
   "outputs": [],
   "source": [
    "def convert_to_df(equity: str):\n",
    "    path = f'equities_json/{equity}.json'\n",
    "    try:\n",
    "        json_data = json.load(open(path))\n",
    "    except FileNotFoundError:\n",
    "        create_json(equity)\n",
    "        json_data = json.load(open(path))\n",
    "\n",
    "    # Data Cleaning\n",
    "    \n",
    "    # Change these when looking at different series\n",
    "    convert_dict = {'Open': 'float64', 'High': 'float64', 'Low': 'float64', 'Close': 'float64', 'Adjusted Close': 'float64', 'Volume': 'int64', 'Dividend Amount': 'float64', 'Split Coefficient': 'float64'}\n",
    "    data = pd.DataFrame(json_data['Time Series (Daily)']).transpose()\n",
    "\n",
    "    data.columns = ['Open', 'High', 'Low', 'Close', 'Adjusted Close', 'Volume', 'Dividend Amount', 'Split Coefficient']\n",
    "    data.index = pd.to_datetime(data.index)\n",
    "    data.index.name = 'Date'\n",
    "    \n",
    "    data = data.sort_index().astype(convert_dict)\n",
    "    \n",
    "    return data"
   ]
  },
  {
   "cell_type": "code",
   "execution_count": null,
   "metadata": {},
   "outputs": [],
   "source": [
    "def plot_equities(equities: list):\n",
    "    '''\n",
    "    Takes a list of equities (e.g. ['AMZN', 'AAPL']) as input and \n",
    "    creates a single time series plot where it contains all the equities.\n",
    "    '''\n",
    "    \n",
    "    plt.figure(figsize=(18, 8))\n",
    "    plt.xlabel = 'Date'\n",
    "    plt.ylabel = 'Close (USD)'\n",
    "    \n",
    "    # Change this when looking at different series\n",
    "    convert_dict = {'Open': 'float64', 'High': 'float64', 'Low': 'float64', 'Close': 'float64', 'Adjusted Close': 'float64', 'Volume': 'int64', 'Dividend Amount': 'float64', 'Split Coefficient': 'float64'}\n",
    "    \n",
    "    # Set starting date to observe\n",
    "    start_date = np.datetime64('2020-01-01')\n",
    "    \n",
    "    for equity in equities:\n",
    "        path = f'equities_json/{equity}.json'\n",
    "        \n",
    "        try:\n",
    "            json_data = json.load(open(path))\n",
    "        except FileNotFoundError:\n",
    "            create_json(equity)\n",
    "            json_data = json.load(open(path))\n",
    "        \n",
    "        # Data Cleaning\n",
    "        data = pd.DataFrame(json_data['Time Series (Daily)']).transpose()\n",
    "        \n",
    "        data.columns = ['Open', 'High', 'Low', 'Close', 'Adjusted Close', 'Volume', 'Dividend Amount', 'Split Coefficient']\n",
    "        data.index = pd.to_datetime(data.index)\n",
    "        data.index.name = 'Date'\n",
    "        \n",
    "        data = data.sort_index().astype(convert_dict)\n",
    "        data = pd.DataFrame(data[data.index >= start_date])\n",
    "        \n",
    "        # Change the key when observing other columns\n",
    "        data['Close'].plot(label=equity)\n",
    "        \n",
    "    plt.legend()"
   ]
  },
  {
   "cell_type": "code",
   "execution_count": null,
   "metadata": {},
   "outputs": [],
   "source": [
    "function = 'SMA'\n",
    "equity = 'TSLA'\n",
    "interval = 'daily'\n",
    "time_period = '50'\n",
    "series_type = 'close'\n",
    "datatype = 'json'\n",
    "\n",
    "url = f'https://www.alphavantage.co/query?function={function}&symbol={equity}&interval={interval}&time_period={time_period}&series_type={series_type}&apikey={API_KEY}&datatype={datatype}'\n",
    "print(url)\n",
    "resp = requests.get(url)\n",
    "\n",
    "resp.json()\n"
   ]
  },
  {
   "cell_type": "code",
   "execution_count": null,
   "metadata": {},
   "outputs": [],
   "source": [
    "equity = 'TSLA'\n",
    "function = 'TIME_SERIES_DAILY_ADJUSTED'\n",
    "datatype = 'json'\n",
    "\n",
    "url = f'https://www.alphavantage.co/query?function={function}&symbol={equity}&outputsize=full&apikey={API_KEY}&datatype={datatype}'\n",
    "resp = requests.get(url)\n",
    "resp.json()"
   ]
  },
  {
   "cell_type": "markdown",
   "metadata": {},
   "source": [
    "## Automotive Companies"
   ]
  },
  {
   "cell_type": "code",
   "execution_count": null,
   "metadata": {},
   "outputs": [],
   "source": [
    "plot_equities(['NKLA', 'TSLA', 'F', 'VWAGY'])"
   ]
  },
  {
   "cell_type": "markdown",
   "metadata": {},
   "source": [
    "## Tech Companies"
   ]
  },
  {
   "cell_type": "code",
   "execution_count": null,
   "metadata": {},
   "outputs": [],
   "source": [
    "plot_equities(['AAPL', 'MSFT', 'AMZN', 'ADBE', 'BABA', 'FB', 'GOOG'])"
   ]
  },
  {
   "cell_type": "code",
   "execution_count": null,
   "metadata": {},
   "outputs": [],
   "source": [
    "FUNCTION = 'OVERVIEW'\n",
    "SYMBOL = 'TSLA'\n",
    "URL = f'https://www.alphavantage.co/query?function={FUNCTION}&symbol={SYMBOL}&apikey={API_KEY}'\n",
    "\n",
    "resp = requests.get(URL)\n",
    "resp.json()"
   ]
  }
 ],
 "metadata": {
  "kernelspec": {
   "display_name": "Python 3",
   "language": "python",
   "name": "python3"
  },
  "language_info": {
   "codemirror_mode": {
    "name": "ipython",
    "version": 3
   },
   "file_extension": ".py",
   "mimetype": "text/x-python",
   "name": "python",
   "nbconvert_exporter": "python",
   "pygments_lexer": "ipython3",
   "version": "3.8.5"
  }
 },
 "nbformat": 4,
 "nbformat_minor": 4
}
